{
  "cells": [
    {
      "cell_type": "code",
      "execution_count": 1,
      "id": "fd939912",
      "metadata": {
        "id": "fd939912"
      },
      "outputs": [],
      "source": [
        "import pandas as pd"
      ]
    },
    {
      "cell_type": "markdown",
      "id": "96f2857f",
      "metadata": {
        "id": "96f2857f"
      },
      "source": [
        "# **Exercise 1: Creating and Understanding Pandas Objects**\n",
        "\n",
        "\n",
        "## **Task Breakdown**\n",
        "### **Step 1: Create a Pandas Series**\n",
        "- The **Series** will store Tesla’s **closing stock prices** for five days.\n",
        "- Each value in the Series will have a corresponding **day label** (`Day1`, `Day2`, etc.).\n",
        "\n",
        "### **Step 2: Create a Pandas DataFrame**\n",
        "- The **DataFrame** will contain Tesla stock data with the following columns:\n",
        "  - **Company**: The name of the company (Tesla).\n",
        "  - **Open**: Stock price at market open.\n",
        "  - **High**: Highest stock price of the day.\n",
        "  - **Low**: Lowest stock price of the day.\n",
        "  - **Close**: Stock price at market close.\n",
        "\n",
        "### **Step 3: Display the Data Types**\n",
        "- Use the `type()` function to check whether:\n",
        "  - `stock_prices` is a **Series**.\n",
        "  - `df` is a **DataFrame**.\n",
        "\n",
        "### **Step 4: Print the Objects**\n",
        "- Print the **Series** and **DataFrame** to verify their structure.\n"
      ]
    },
    {
      "cell_type": "code",
      "execution_count": 2,
      "id": "d12a63c1",
      "metadata": {
        "id": "d12a63c1",
        "colab": {
          "base_uri": "https://localhost:8080/"
        },
        "outputId": "90cd3855-9e29-496c-ac8a-ceb2ae6be71d"
      },
      "outputs": [
        {
          "output_type": "stream",
          "name": "stdout",
          "text": [
            "Day1    150\n",
            "Day2    200\n",
            "Day3    370\n",
            "Day4    500\n",
            "Day5    220\n",
            "dtype: int64\n"
          ]
        }
      ],
      "source": [
        "prices = pd.Series([150, 200, 370, 500, 220], index = [\"Day1\", \"Day2\", \"Day3\", \"Day4\", \"Day5\"])\n",
        "print(prices)"
      ]
    },
    {
      "cell_type": "code",
      "source": [
        "data = {\n",
        "    \"Company\" : [\"TESLA\", \"TESLA\", \"TESLA\", \"TESLA\", \"TESLA\"],\n",
        "    \"Open\" : [250, 270, 220, 340, 180],\n",
        "    \"High\" : [390, 370, 420, 360, 210],\n",
        "    \"Low\" : [140, 210, 160, 290, 150],\n",
        "    \"Close\" : [280, 250, 300, 300, 200]\n",
        "}\n",
        "df = pd.DataFrame(data)\n",
        "\n",
        "print(df)"
      ],
      "metadata": {
        "colab": {
          "base_uri": "https://localhost:8080/"
        },
        "id": "jujRp2hSUBlR",
        "outputId": "728a0529-6ddc-4338-f30a-f62462bb1f13"
      },
      "id": "jujRp2hSUBlR",
      "execution_count": 3,
      "outputs": [
        {
          "output_type": "stream",
          "name": "stdout",
          "text": [
            "  Company  Open  High  Low  Close\n",
            "0   TESLA   250   390  140    280\n",
            "1   TESLA   270   370  210    250\n",
            "2   TESLA   220   420  160    300\n",
            "3   TESLA   340   360  290    300\n",
            "4   TESLA   180   210  150    200\n"
          ]
        }
      ]
    },
    {
      "cell_type": "code",
      "source": [
        "print(type(df))\n",
        "print(type(prices))"
      ],
      "metadata": {
        "colab": {
          "base_uri": "https://localhost:8080/"
        },
        "id": "Ukk0f6k0Vw86",
        "outputId": "c62b9e6f-f1bf-46d9-e393-d53d72bcb13e"
      },
      "id": "Ukk0f6k0Vw86",
      "execution_count": 4,
      "outputs": [
        {
          "output_type": "stream",
          "name": "stdout",
          "text": [
            "<class 'pandas.core.frame.DataFrame'>\n",
            "<class 'pandas.core.series.Series'>\n"
          ]
        }
      ]
    },
    {
      "cell_type": "markdown",
      "id": "e528e03a",
      "metadata": {
        "id": "e528e03a"
      },
      "source": [
        "# **Exercise 2: Indexing and Selecting Data**\n",
        "## **Objective**\n",
        "This exercise will help you:\n",
        "- Learn how to **select specific columns** from a DataFrame.\n",
        "- Retrieve **specific values** using different indexing methods.\n",
        "- Use **.iloc[] for positional indexing** to extract multiple rows.\n",
        "\n",
        "---\n",
        "\n",
        "## **Task Breakdown**\n",
        "### **Step 1: Select the 'Close' Column**\n",
        "- Extract the **'Close'** column from the DataFrame.\n",
        "- This will return a **Pandas Series** containing Tesla’s closing prices.\n",
        "\n",
        "### **Step 2: Retrieve the Closing Price on Day 3**\n",
        "- Use **label-based indexing** to find the **closing price** of Tesla on `Day3`.\n",
        "\n",
        "### **Step 3: Use `.iloc[]` to Get the First Three Rows**\n",
        "- `.iloc[]` is used for **positional indexing**.\n",
        "- Extract the **first three rows** from the dataset.\n",
        "\n",
        "---\n",
        "\n"
      ]
    },
    {
      "cell_type": "code",
      "execution_count": 5,
      "id": "ff148ea1",
      "metadata": {
        "id": "ff148ea1",
        "colab": {
          "base_uri": "https://localhost:8080/"
        },
        "outputId": "5cb06699-cee8-4a25-f356-b1bb1a566e39"
      },
      "outputs": [
        {
          "output_type": "stream",
          "name": "stdout",
          "text": [
            "0    280\n",
            "1    250\n",
            "2    300\n",
            "3    300\n",
            "4    200\n",
            "Name: Close, dtype: int64\n"
          ]
        }
      ],
      "source": [
        "print(df['Close'])"
      ]
    },
    {
      "cell_type": "code",
      "source": [
        "print(df.loc[3])"
      ],
      "metadata": {
        "colab": {
          "base_uri": "https://localhost:8080/"
        },
        "id": "k2xv4VchYMMA",
        "outputId": "f70236ec-2b6a-469f-b818-ff99a47a7ebe"
      },
      "id": "k2xv4VchYMMA",
      "execution_count": 6,
      "outputs": [
        {
          "output_type": "stream",
          "name": "stdout",
          "text": [
            "Company    TESLA\n",
            "Open         340\n",
            "High         360\n",
            "Low          290\n",
            "Close        300\n",
            "Name: 3, dtype: object\n"
          ]
        }
      ]
    },
    {
      "cell_type": "code",
      "source": [
        "print(df.iloc[:3])"
      ],
      "metadata": {
        "colab": {
          "base_uri": "https://localhost:8080/"
        },
        "id": "HUkE4wS4Ypav",
        "outputId": "5826a1ae-082a-42c5-b454-342cbeef0691"
      },
      "id": "HUkE4wS4Ypav",
      "execution_count": 7,
      "outputs": [
        {
          "output_type": "stream",
          "name": "stdout",
          "text": [
            "  Company  Open  High  Low  Close\n",
            "0   TESLA   250   390  140    280\n",
            "1   TESLA   270   370  210    250\n",
            "2   TESLA   220   420  160    300\n"
          ]
        }
      ]
    },
    {
      "cell_type": "markdown",
      "id": "abb6a109",
      "metadata": {
        "id": "abb6a109"
      },
      "source": [
        "## Exercise 3: Loading and Inspecting the Dataset\n",
        "**Task:**\n",
        "1. Load the dataset using Pandas.\n",
        "2. Display basic dataset information.\n",
        "3. Show summary statistics for numerical columns."
      ]
    },
    {
      "cell_type": "code",
      "execution_count": 8,
      "id": "6ee6bf08",
      "metadata": {
        "id": "6ee6bf08",
        "colab": {
          "base_uri": "https://localhost:8080/"
        },
        "outputId": "40b95d35-c615-4c4b-e863-8341918e6389"
      },
      "outputs": [
        {
          "output_type": "stream",
          "name": "stdout",
          "text": [
            "         date   close         volume    open    high       low\n",
            "0       11:34  270.49      4,787,699  264.50  273.88  262.2400\n",
            "1  2018/10/15  259.59   6189026.0000  259.06  263.28  254.5367\n",
            "2  2018/10/12  258.78   7189257.0000  261.00  261.99  252.0100\n",
            "3  2018/10/11  252.23   8128184.0000  257.53  262.25  249.0300\n",
            "4  2018/10/10  256.88  12781560.0000  264.61  265.51  247.7700\n"
          ]
        }
      ],
      "source": [
        "url=\"https://raw.githubusercontent.com/plotly/datasets/master/tesla-stock-price.csv\"\n",
        "df = pd.read_csv(url)\n",
        "print(df.head(5))"
      ]
    },
    {
      "cell_type": "markdown",
      "id": "a6e2d4a4",
      "metadata": {
        "id": "a6e2d4a4"
      },
      "source": [
        "## Exercise 4: Filtering Tesla Stock Data\n",
        "**Task:**\n",
        "1. Find all records where Tesla's closing price was above $800.\n",
        "2. Find all records where Tesla's trading volume was above 2 million shares."
      ]
    },
    {
      "cell_type": "code",
      "execution_count": 9,
      "id": "f256626e",
      "metadata": {
        "id": "f256626e",
        "colab": {
          "base_uri": "https://localhost:8080/"
        },
        "outputId": "a2295300-d753-4a40-c7e6-714c99bc3f1e"
      },
      "outputs": [
        {
          "output_type": "stream",
          "name": "stdout",
          "text": [
            "Empty DataFrame\n",
            "Columns: [date, close, volume, open, high, low]\n",
            "Index: []\n"
          ]
        }
      ],
      "source": [
        "rec1 = df[df[\"close\"] > 800]\n",
        "print(rec1)"
      ]
    },
    {
      "cell_type": "markdown",
      "id": "b3dbda8f",
      "metadata": {
        "id": "b3dbda8f"
      },
      "source": [
        "## Exercise 5: Sorting Tesla Stock Data\n",
        "**Task:**\n",
        "1. Sort Tesla stock data by date (oldest to newest).\n",
        "2. Sort the dataset by closing price (highest to lowest)."
      ]
    },
    {
      "cell_type": "code",
      "execution_count": 10,
      "id": "e9e47646",
      "metadata": {
        "id": "e9e47646",
        "colab": {
          "base_uri": "https://localhost:8080/"
        },
        "outputId": "8e8116f2-e820-43dc-940a-4cfb1a51390b"
      },
      "outputs": [
        {
          "output_type": "stream",
          "name": "stdout",
          "text": [
            "           date   close         volume    open      high       low\n",
            "0         11:34  270.49      4,787,699  264.50  273.8800  262.2400\n",
            "756  2015/10/15  221.31   2835920.0000  216.43  221.7300  213.7000\n",
            "755  2015/10/16  227.01   4327574.0000  223.04  230.4805  222.8700\n",
            "754  2015/10/19  228.10   2506836.0000  226.50  231.1500  224.9400\n",
            "753  2015/10/20  213.03  14877020.0000  227.72  228.6000  202.0000\n",
            "..          ...     ...            ...     ...       ...       ...\n",
            "5    2018/10/09  262.80  12037780.0000  255.25  266.7700  253.3000\n",
            "4    2018/10/10  256.88  12781560.0000  264.61  265.5100  247.7700\n",
            "3    2018/10/11  252.23   8128184.0000  257.53  262.2500  249.0300\n",
            "2    2018/10/12  258.78   7189257.0000  261.00  261.9900  252.0100\n",
            "1    2018/10/15  259.59   6189026.0000  259.06  263.2800  254.5367\n",
            "\n",
            "[757 rows x 6 columns]\n"
          ]
        }
      ],
      "source": [
        "dates = df.sort_values(by=\"date\", ascending=True)\n",
        "print(dates)"
      ]
    },
    {
      "cell_type": "code",
      "source": [
        "dates = df.sort_values(by=\"close\", ascending=False)\n",
        "print(dates)"
      ],
      "metadata": {
        "colab": {
          "base_uri": "https://localhost:8080/"
        },
        "id": "uIx49IwUewW8",
        "outputId": "8ce8fa6e-e56b-4639-b1fd-c87e3fc2f1dd"
      },
      "id": "uIx49IwUewW8",
      "execution_count": 11,
      "outputs": [
        {
          "output_type": "stream",
          "name": "stdout",
          "text": [
            "           date   close         volume     open    high      low\n",
            "272  2017/09/18  385.00   7177773.0000  380.250  389.61  377.680\n",
            "331  2017/06/23  383.45   6425180.0000  382.450  386.99  379.345\n",
            "332  2017/06/22  382.61   7510406.0000  377.990  385.00  373.570\n",
            "338  2017/06/14  380.66  12778480.0000  381.085  384.25  376.310\n",
            "273  2017/09/15  379.81   5407227.0000  374.510  380.00  372.700\n",
            "..          ...     ...            ...      ...     ...      ...\n",
            "674  2016/02/12  151.04   7233264.0000  155.000  157.01  143.700\n",
            "675  2016/02/11  150.47  14236900.0000  152.000  163.26  147.000\n",
            "677  2016/02/09  148.25   8639661.0000  142.320  159.79  141.050\n",
            "678  2016/02/08  147.99   9306754.0000  157.105  157.15  146.000\n",
            "676  2016/02/10  143.67  10104690.0000  150.500  154.97  141.740\n",
            "\n",
            "[757 rows x 6 columns]\n"
          ]
        }
      ]
    },
    {
      "cell_type": "markdown",
      "id": "f433d7f3",
      "metadata": {
        "id": "f433d7f3"
      },
      "source": [
        "## Exercise 6: Calculating Daily Price Changes\n",
        "**Task:**\n",
        "1. Add a new column `Daily Change = Close - Open`.\n",
        "2. Calculate the percentage change: `(Daily Change / Open) * 100`.\n",
        "3. Find the day with the highest daily percentage gain."
      ]
    },
    {
      "cell_type": "code",
      "execution_count": 12,
      "id": "50f2c7d0",
      "metadata": {
        "id": "50f2c7d0",
        "colab": {
          "base_uri": "https://localhost:8080/"
        },
        "outputId": "b139eb63-b3d5-4449-90b5-18c7f90d7635"
      },
      "outputs": [
        {
          "output_type": "stream",
          "name": "stdout",
          "text": [
            "         date   close         volume    open    high       low  Daily Changes\n",
            "0       11:34  270.49      4,787,699  264.50  273.88  262.2400           5.99\n",
            "1  2018/10/15  259.59   6189026.0000  259.06  263.28  254.5367           0.53\n",
            "2  2018/10/12  258.78   7189257.0000  261.00  261.99  252.0100          -2.22\n",
            "3  2018/10/11  252.23   8128184.0000  257.53  262.25  249.0300          -5.30\n",
            "4  2018/10/10  256.88  12781560.0000  264.61  265.51  247.7700          -7.73\n"
          ]
        }
      ],
      "source": [
        "df['Daily Changes'] = df[\"close\"] - df[\"open\"]\n",
        "print(df.head(5))"
      ]
    },
    {
      "cell_type": "markdown",
      "id": "48853dc6",
      "metadata": {
        "id": "48853dc6"
      },
      "source": [
        "## Exercise 7: Exporting Cleaned Data\n",
        "**Task:**\n",
        "Save the cleaned dataset as `tesla_cleaned.csv`."
      ]
    },
    {
      "cell_type": "code",
      "execution_count": 13,
      "id": "14458baf",
      "metadata": {
        "id": "14458baf"
      },
      "outputs": [],
      "source": [
        "df.to_csv(\"tesla_cleaned.csv\", index=False)"
      ]
    }
  ],
  "metadata": {
    "kernelspec": {
      "display_name": "Python 3 (ipykernel)",
      "language": "python",
      "name": "python3"
    },
    "language_info": {
      "codemirror_mode": {
        "name": "ipython",
        "version": 3
      },
      "file_extension": ".py",
      "mimetype": "text/x-python",
      "name": "python",
      "nbconvert_exporter": "python",
      "pygments_lexer": "ipython3",
      "version": "3.12.5"
    },
    "colab": {
      "provenance": []
    }
  },
  "nbformat": 4,
  "nbformat_minor": 5
}