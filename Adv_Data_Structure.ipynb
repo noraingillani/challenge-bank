{
  "cells": [
    {
      "cell_type": "markdown",
      "id": "380fba4c-9a27-4159-9637-cdf750853a92",
      "metadata": {
        "id": "380fba4c-9a27-4159-9637-cdf750853a92"
      },
      "source": [
        "### **Task 1: Analyze Monthly Expenses**  \n",
        "#### **Instructions:**  \n",
        "1. Create a list of expenses: `500, 1200, 300, 700, 450, 1500, 950`.\n",
        "2. Identify the three highest expenses.\n",
        "3. Calculate the average of the remaining expenses (excluding the highest three).\n",
        "4. Check if any expense exceeds 50% of the total expenses. If so, print a warning message."
      ]
    },
    {
      "cell_type": "code",
      "execution_count": 1,
      "id": "38f232c8-5d09-4aaf-a712-4757971928a5",
      "metadata": {
        "id": "38f232c8-5d09-4aaf-a712-4757971928a5",
        "colab": {
          "base_uri": "https://localhost:8080/"
        },
        "outputId": "20c566e9-56cc-4706-d966-6c4edd0cf562"
      },
      "outputs": [
        {
          "output_type": "stream",
          "name": "stdout",
          "text": [
            "Highest Expenses: [1500, 1200, 950]\n",
            "Average of Expenses: 487.5\n",
            "Expense: Good!\n"
          ]
        }
      ],
      "source": [
        "expenses = [500, 1200, 300, 700, 450, 1500, 950]\n",
        "sorted_exp = sorted(expenses, reverse = True)\n",
        "highest = sorted_exp[:3]\n",
        "print(f\"Highest Expenses: {highest}\")\n",
        "\n",
        "remaining = sorted_exp[3:]\n",
        "average = sum(remaining) / len(remaining)\n",
        "print(f\"Average of Expenses: {average}\")\n",
        "\n",
        "total = sum(expenses)\n",
        "for expense in expenses:\n",
        "  if expense > total*0.5:\n",
        "    print(\"Expense: WARNING!\")\n",
        "    break\n",
        "else:\n",
        "    print(\"Expense: Good!\")"
      ]
    },
    {
      "cell_type": "markdown",
      "id": "dba3aa61-7334-4e37-a860-4544f06d94ea",
      "metadata": {
        "id": "dba3aa61-7334-4e37-a860-4544f06d94ea"
      },
      "source": [
        "### **Task 2: Interest Rate Strategy**  \n",
        "#### **Instructions:**  \n",
        "1. Create a tuple with historical interest rates: `3.5, 4.0, 4.5, 5.0, 4.8`.\n",
        "2. Calculate the average of all rates except the latest.\n",
        "3. Compare the latest interest rate to the calculated average.\n",
        "4. If the latest rate is higher than the average, print \"Increasing interest trend\", otherwise print \"Stable or decreasing trend\"."
      ]
    },
    {
      "cell_type": "code",
      "execution_count": 2,
      "id": "50265a0b-a23a-4407-9568-c1d178a16dc4",
      "metadata": {
        "id": "50265a0b-a23a-4407-9568-c1d178a16dc4",
        "colab": {
          "base_uri": "https://localhost:8080/"
        },
        "outputId": "cd7fe9cc-1536-4b05-b863-30cfce9a0039"
      },
      "outputs": [
        {
          "output_type": "stream",
          "name": "stdout",
          "text": [
            "Increasing interest trend\n"
          ]
        }
      ],
      "source": [
        "rates = (3.5, 4.0, 4.5, 5.0, 4.8)\n",
        "latest = rates[-1]\n",
        "total = sum(rates[:-1])\n",
        "average = total / len(rates[:-1])\n",
        "\n",
        "if latest > average:\n",
        "  print(\"Increasing interest trend\")\n",
        "else:\n",
        "  print(\"Stable or decreasing trend\")"
      ]
    },
    {
      "cell_type": "markdown",
      "id": "1d33a34d-f2b0-4855-b265-3fd23a185c62",
      "metadata": {
        "id": "1d33a34d-f2b0-4855-b265-3fd23a185c62"
      },
      "source": [
        "### **Task 3: High-Risk Customer Detection**  \n",
        "#### **Instructions:**  \n",
        "1. Create a dictionary of customer balances: `Ali: 5000, Ayesha: 700, Usman: 3000, Sara: 900`.\n",
        "2. Identify customers with balances below 1000.\n",
        "3. Print the names of these high-risk customers.\n",
        "\n"
      ]
    },
    {
      "cell_type": "code",
      "execution_count": 3,
      "id": "645f195a-00c5-4ca0-b9b7-31805a561ed6",
      "metadata": {
        "id": "645f195a-00c5-4ca0-b9b7-31805a561ed6",
        "colab": {
          "base_uri": "https://localhost:8080/"
        },
        "outputId": "75359a13-b89a-449d-a9d0-f4e5ad4a0a15"
      },
      "outputs": [
        {
          "output_type": "stream",
          "name": "stdout",
          "text": [
            "High Risk Customers: Ayesha\n",
            "High Risk Customers: Sara\n"
          ]
        }
      ],
      "source": [
        "customer_balances = {\"Ali\": 5000, \"Ayesha\": 700, \"Usman\": 3000, \"Sara\": 900}\n",
        "for name, balance in customer_balances.items():\n",
        "  if balance < 1000:\n",
        "    print(f\"High Risk Customers: {name}\")"
      ]
    },
    {
      "cell_type": "markdown",
      "id": "234d5841-0588-4837-abc7-b1cf8bed14ae",
      "metadata": {
        "id": "234d5841-0588-4837-abc7-b1cf8bed14ae"
      },
      "source": [
        "### **Task 4: Fraudulent Transaction Detection**  \n",
        "#### **Instructions:**  \n",
        "1. Create a set of past transactions: `1000, 2000, 3000, 5000`.\n",
        "2. Define a new transaction amount: `2000`.\n",
        "3. Check if this new transaction already exists in the past transactions set.\n",
        "4. If a duplicate is found, print \"Possible fraud detected!\", otherwise print \"Transaction is unique.\"."
      ]
    },
    {
      "cell_type": "code",
      "execution_count": 4,
      "id": "7e347cac-ad2d-4619-a997-59340c17d74a",
      "metadata": {
        "id": "7e347cac-ad2d-4619-a997-59340c17d74a",
        "colab": {
          "base_uri": "https://localhost:8080/"
        },
        "outputId": "66b85fa4-07d4-4226-b365-d4855c638e84"
      },
      "outputs": [
        {
          "output_type": "stream",
          "name": "stdout",
          "text": [
            "Possible fraud detected!\n"
          ]
        }
      ],
      "source": [
        "past_transactions = [1000, 2000, 3000, 5000]\n",
        "new_transactions = 2000\n",
        "\n",
        "if new_transactions in past_transactions:\n",
        "  print(\"Possible fraud detected!\")\n",
        "else:\n",
        "    print(\"Transaction is unique.\")"
      ]
    },
    {
      "cell_type": "markdown",
      "id": "490f648a-3a03-4530-84ac-4c8c1e78ee90",
      "metadata": {
        "id": "490f648a-3a03-4530-84ac-4c8c1e78ee90"
      },
      "source": [
        "### **Task 5: Prioritizing Large Transactions in a Queue**  \n",
        "#### **Instructions:**  \n",
        "1. Create a queue of transactions: `['Deposit - 5000', 'Withdrawal - 2000', 'Withdrawal - 7000', 'Deposit - 1000']`.\n",
        "2. Process transactions in FIFO order.\n",
        "3. Print each transaction as it is processed."
      ]
    },
    {
      "cell_type": "code",
      "execution_count": 5,
      "id": "a92ca698-6e47-4146-9fbe-eb93dafcd930",
      "metadata": {
        "id": "a92ca698-6e47-4146-9fbe-eb93dafcd930",
        "colab": {
          "base_uri": "https://localhost:8080/"
        },
        "outputId": "19fc9624-94fe-4010-dd51-5be0687fc019"
      },
      "outputs": [
        {
          "output_type": "stream",
          "name": "stdout",
          "text": [
            "Processing = Deposit - 5000\n",
            "Processing = Withdrawal - 2000\n",
            "Processing = Withdrawal - 7000\n",
            "Processing = Deposit - 1000\n"
          ]
        }
      ],
      "source": [
        "from collections import deque\n",
        "transactions = deque(['Deposit - 5000', 'Withdrawal - 2000', 'Withdrawal - 7000', 'Deposit - 1000'])\n",
        "while transactions:\n",
        "  print(f\"Processing = {transactions.popleft()}\")"
      ]
    },
    {
      "cell_type": "markdown",
      "id": "48b4deb1-cfeb-4ad8-a42a-9234eab44e54",
      "metadata": {
        "id": "48b4deb1-cfeb-4ad8-a42a-9234eab44e54"
      },
      "source": [
        "### **Task 6: Portfolio Diversification Check**\n",
        "#### **Instructions:**  \n",
        "1. Create a dictionary of stock investments: `AAPL: 40000, 'GOOGL': 20000, MSFT: 10000, TSLA: 30000`.\n",
        "2. Compute the total investment.\n",
        "3. Identify if any single stock holds more than 40% of the total investment.\n",
        "4. If found, print \"Risky portfolio!\", otherwise print \"Well-diversified portfolio.\".\n"
      ]
    },
    {
      "cell_type": "code",
      "execution_count": 6,
      "id": "e24b8c3a-8e5f-4592-831e-08f08221841d",
      "metadata": {
        "id": "e24b8c3a-8e5f-4592-831e-08f08221841d",
        "colab": {
          "base_uri": "https://localhost:8080/"
        },
        "outputId": "b634f72d-b3f7-4ac2-e2c2-6bd1605b2d5e"
      },
      "outputs": [
        {
          "output_type": "stream",
          "name": "stdout",
          "text": [
            "Well-diversified portfolio.\n"
          ]
        }
      ],
      "source": [
        "sto_inv = {\"AAPL\": 40000, \"GOOGL\": 20000, \"MSFT\": 10000, \"TSLA\": 30000}\n",
        "total_investment = sum(sto_inv.values())\n",
        "\n",
        "for stock, vals in sto_inv.items():\n",
        "  if vals > total_investment * 0.4:\n",
        "    print(\"Risky portfolio!\")\n",
        "    break\n",
        "else:\n",
        "    print(\"Well-diversified portfolio.\")"
      ]
    },
    {
      "cell_type": "markdown",
      "id": "805e0b20-7d90-4c57-bf87-aeb48f4ac684",
      "metadata": {
        "id": "805e0b20-7d90-4c57-bf87-aeb48f4ac684"
      },
      "source": [
        "### **Task 7: Implement Smart Transaction Analysis System**  \n",
        "#### **Instructions:**  \n",
        "```markdown\n",
        "- Given a queue of transactions, categorize them into deposits and withdrawals.\n",
        "- Compute the total deposits and total withdrawals.\n",
        "- If withdrawals exceed deposits, print \"Account Overdrawn!\".\n",
        "```"
      ]
    },
    {
      "cell_type": "code",
      "execution_count": 7,
      "id": "8b0e561f-ba85-4872-b074-13e936149382",
      "metadata": {
        "id": "8b0e561f-ba85-4872-b074-13e936149382",
        "colab": {
          "base_uri": "https://localhost:8080/"
        },
        "outputId": "c2626cc6-8c72-47a3-90d2-b4ffd122c040"
      },
      "outputs": [
        {
          "output_type": "stream",
          "name": "stdout",
          "text": [
            "Account Overdrawn!\n"
          ]
        }
      ],
      "source": [
        "from collections import deque\n",
        "\n",
        "transactions = deque([(\"Deposit\", 5000), (\"Withdrawal\", 2000), (\"Withdrawal\", 7000), (\"Deposit\", 1000)])\n",
        "total_deposits = 0\n",
        "total_withdrawals = 0\n",
        "\n",
        "for t in transactions:\n",
        "    if t[0] == \"Deposit\":\n",
        "        total_deposits += t[1]\n",
        "    else:\n",
        "        total_withdrawals += t[1]\n",
        "\n",
        "if total_withdrawals > total_deposits:\n",
        "    print(\"Account Overdrawn!\")\n",
        "else:\n",
        "    print(\"Account is in good standing.\")"
      ]
    },
    {
      "cell_type": "markdown",
      "id": "a3d723a0-a5c4-4b8e-9989-b54be7779ec4",
      "metadata": {
        "id": "a3d723a0-a5c4-4b8e-9989-b54be7779ec4"
      },
      "source": [
        "# -------------------------------------------------------------------------------------------"
      ]
    }
  ],
  "metadata": {
    "kernelspec": {
      "display_name": "Python 3 (ipykernel)",
      "language": "python",
      "name": "python3"
    },
    "language_info": {
      "codemirror_mode": {
        "name": "ipython",
        "version": 3
      },
      "file_extension": ".py",
      "mimetype": "text/x-python",
      "name": "python",
      "nbconvert_exporter": "python",
      "pygments_lexer": "ipython3",
      "version": "3.12.5"
    },
    "colab": {
      "provenance": []
    }
  },
  "nbformat": 4,
  "nbformat_minor": 5
}