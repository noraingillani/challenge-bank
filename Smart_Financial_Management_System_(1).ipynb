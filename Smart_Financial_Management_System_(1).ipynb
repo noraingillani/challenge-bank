{
  "nbformat": 4,
  "nbformat_minor": 0,
  "metadata": {
    "colab": {
      "provenance": []
    },
    "kernelspec": {
      "name": "python3",
      "display_name": "Python 3"
    },
    "language_info": {
      "name": "python"
    }
  },
  "cells": [
    {
      "cell_type": "markdown",
      "source": [
        "# **AF3005 – Programming for Finance**  \n",
        "\n",
        "---\n",
        "\n",
        "## **📘 Assignment 1: Smart Financial Management System**  \n",
        "\n",
        "📍 **FAST National University of Computer and Emerging Sciences (FAST-NUCES), Islamabad**  \n",
        "👨‍🏫 **Instructor:** Dr. Usama Arshad (Assistant Professor, FSM)  \n",
        "🎓 **Program:** BS Financial Technology (BSFT)  \n",
        "📅 **Semester:** Spring 2025  \n",
        "📌 **Sections:** BSFT06A, BSFT06B, BSFT06C  \n",
        "\n",
        "---\n",
        "\n",
        "## **🎯 Course Learning Outcomes (CLOs)**  \n",
        "- **CLO1:** Write Python programs to solve basic financial problems.  \n",
        "- **CLO2:** Perform data manipulation and analysis using Python libraries.  \n",
        "\n",
        "---\n",
        "\n",
        "\n",
        "\n",
        "\n",
        "\n",
        "\n",
        "\n",
        "\n",
        "\n",
        "\n",
        "\n"
      ],
      "metadata": {
        "id": "5SRLdaqmHtmP"
      }
    },
    {
      "cell_type": "markdown",
      "source": [
        "\n",
        "# **🟢 Deadline: 15th February 2025**\n",
        "\n",
        "---\n",
        "\n"
      ],
      "metadata": {
        "id": "wXgvxhSVQXNz"
      }
    },
    {
      "cell_type": "markdown",
      "source": [
        "## **📥 Submission Guidelines**\n",
        "- **File Format:** Submit your assignment as a Jupyter Notebook file (`.ipynb`).\n",
        "- **Naming Convention:** Use the format `[Your_regno]_AF3005_Assignment1.ipynb`.\n",
        "- **Submission Platform:** Upload your file to **Google Classroom** under the assigned submission.\n",
        "- **GitHub Repository:**\n",
        "  - Create a GitHub repository named `AF3005_ProgrammingForFinance`.\n",
        "  - Upload your `.ipynb` file.\n",
        "  - Ensure the repository is structured properly with a `README.md` explaining the implementation.\n",
        "  - The implementation must include `ipywidgets` for interactive elements.\n",
        "  - Share the GitHub repository link in Google Classroom submission with file.\n",
        "\n",
        "---\n",
        "\n",
        "---\n",
        "\n"
      ],
      "metadata": {
        "id": "mHDXP18hMn3A"
      }
    },
    {
      "cell_type": "markdown",
      "source": [
        "# **🟢 Scenario: Smart Financial Management System [20 marks]**  \n",
        "\n",
        "\n",
        "---\n",
        "\n",
        "\n",
        "SecureBank wants to develop an **automated financial management system** using Python. Your task is to implement different financial operations step by step.\n",
        "\n",
        "This system will:  \n",
        "✅ **Assess customer eligibility for loans.**  \n",
        "✅ **Classify investment portfolios based on risk.**  \n",
        "✅ **Automate loan repayment tracking.**  \n",
        "✅ **Monitor stock market trends and trigger alerts.**  \n",
        "✅ **Track currency exchange rates and suggest conversions.**  \n",
        "\n",
        "Your task is to **break down the requirements, write a structured plan, and implement the logic step by step** using **ipywidgets** for interactive user inputs.\n",
        "\n",
        "---\n",
        "\n"
      ],
      "metadata": {
        "id": "XEanO5EiLdC9"
      }
    },
    {
      "cell_type": "markdown",
      "source": [
        "## **🟢 Part 1: Loan Eligibility & Interest Rate Calculation [4 marks]**  \n",
        "\n",
        "📌 **Requirement:**  \n",
        "SecureBank only approves loans if the **customer meets all eligibility criteria**. The system should:  \n",
        "✔ **Check if the customer is employed.**  \n",
        "✔ **Verify if the income is at least PKR 50,000.**  \n",
        "✔ **Check credit score:**  \n",
        "   - **750+ → 5% Interest Rate**  \n",
        "   - **650 - 749 → 8% Interest Rate**  \n",
        "   - **Below 650 → Loan Rejected**  \n",
        "✔ **If the applicant is unemployed, the loan is rejected immediately.**  \n",
        "\n",
        "### **Implementation Steps:**  \n",
        "🔹 **Step 1:** Structure the `if-elif-else` statements for this logic.  \n",
        "🔹 **Step 2:** Implement a Python program using **ipywidgets** for interactive user input (income, credit score, employment status) to decide whether the loan is approved or rejected.\n",
        "\n",
        "---"
      ],
      "metadata": {
        "id": "sIKHzkmkLYYM"
      }
    },
    {
      "cell_type": "markdown",
      "source": [
        "## GITHUB LINK:  \n",
        "\n",
        "https://github.com/noraingillani/AF3005_ProgrammingForFinance/tree/main"
      ],
      "metadata": {
        "id": "wDXQWLB0knKA"
      }
    },
    {
      "cell_type": "code",
      "source": [
        "import ipywidgets as widgets\n",
        "from IPython.display import display, clear_output"
      ],
      "metadata": {
        "id": "JnoBYZkTKqRw"
      },
      "execution_count": null,
      "outputs": []
    },
    {
      "cell_type": "code",
      "source": [
        "def loan(emp_status, income, cred_score):\n",
        "    if not emp_status:\n",
        "        print(\"Loan Rejected: Applicant is unemployed.\")\n",
        "        return\n",
        "    if income < 50000:\n",
        "        print(\"Loan Rejected: Insufficient income. Minimum required is PKR 50,000.\")\n",
        "        return\n",
        "    if cred_score >= 750:\n",
        "        print(\"Loan Approved! Interest Rate: 5%\")\n",
        "    elif cred_score >= 650:\n",
        "        print(\"Loan Approved! Interest Rate: 8%\")\n",
        "    else:\n",
        "        print(\"Loan Rejected: Poor credit score (below 650).\")"
      ],
      "metadata": {
        "id": "3uQCXW750xfl"
      },
      "execution_count": null,
      "outputs": []
    },
    {
      "cell_type": "code",
      "source": [
        "emp_widget = widgets.ToggleButtons(\n",
        "    options=[('Employed', True), ('Unemployed', False)],\n",
        "    description=\"Employment:\",\n",
        "    style={'description_width': 'initial'}\n",
        ")\n",
        "income_widget = widgets.IntText(value=50000, description=\"Monthly Income (PKR):\", style={'description_width': 'initial'})\n",
        "credit_widget = widgets.IntSlider(value=700, min=300, max=850, description=\"Credit Score:\", style={'description_width': 'initial'})\n",
        "eligibility_button = widgets.Button(description=\"Check Eligibility\", button_style='success')"
      ],
      "metadata": {
        "id": "5IpvHLfE0xbO"
      },
      "execution_count": null,
      "outputs": []
    },
    {
      "cell_type": "code",
      "source": [
        "def eligibility(elig):\n",
        "    clear_output(wait=True)\n",
        "    display(emp_widget, income_widget, credit_widget, eligibility_button)\n",
        "    print(\"Loan Eligibility Result\")\n",
        "    loan(emp_widget.value, income_widget.value, credit_widget.value)"
      ],
      "metadata": {
        "id": "Fe4D6-Yg0xNG"
      },
      "execution_count": null,
      "outputs": []
    },
    {
      "cell_type": "code",
      "source": [
        "eligibility_button.on_click(eligibility)\n",
        "\n",
        "display(emp_widget, income_widget, credit_widget, eligibility_button)"
      ],
      "metadata": {
        "id": "LJmJZ_YM0w2v"
      },
      "execution_count": null,
      "outputs": []
    },
    {
      "cell_type": "markdown",
      "source": [
        "## **🟢 Part 2: Investment Risk Assessment [4 marks]**  \n",
        "\n",
        "📌 **Requirement:**  \n",
        "SecureBank offers **investment analysis services**. The system should evaluate a **portfolio of stocks** and classify the risk level based on stock returns:  \n",
        "✔ If **any stock has a negative return**, the portfolio is **High Risk**.  \n",
        "✔ If **all stocks have positive returns**, but at least one return is below 5%, classify as **Medium Risk**.  \n",
        "✔ If **all stock returns are 5% or above**, classify as **Low Risk**.  \n",
        "\n",
        "### **Implementation Steps:**  \n",
        "🔹 **Step 1:** Use loops to iterate through the list of stock returns.  \n",
        "🔹 **Step 2:** Implement `if-elif` conditions to classify the risk.  \n",
        "🔹 **Step 3:** Write a Python program using **ipywidgets** to allow users to **input stock returns interactively** and receive a risk assessment.\n",
        "\n",
        "---"
      ],
      "metadata": {
        "id": "s66ykZPwKmRL"
      }
    },
    {
      "cell_type": "code",
      "source": [
        "def invest_risk(stock_returns):\n",
        "    try:\n",
        "        returns = [float(r.strip()) for r in stock_returns.split(',')]\n",
        "    except ValueError:\n",
        "        print(\"Invalid input. Please enter numbers separated by commas (e.g., 7, 3, 8).\")\n",
        "        return\n",
        "    if any(r < 0 for r in returns):\n",
        "        risk = \"High Risk\"\n",
        "    elif all(r >= 5 for r in returns):\n",
        "        risk = \"Low Risk\"\n",
        "    elif all(r > 0 for r in returns) and any(r < 5 for r in returns):\n",
        "        risk = \"Medium Risk\"\n",
        "    else:\n",
        "        risk = \"Undefined risk level\"\n",
        "\n",
        "    print(\"Investment Portfolio Risk Assessment:\", risk)"
      ],
      "metadata": {
        "id": "I6Mi2LbOKtym"
      },
      "execution_count": null,
      "outputs": []
    },
    {
      "cell_type": "code",
      "source": [
        "stock = widgets.Text(\n",
        "    value=\"7, 3, 8\",\n",
        "    description=\"Stock Returns (%):\",\n",
        "    placeholder=\"Enter returns separated by commas\",\n",
        "    style={'description_width': 'initial'},\n",
        "    layout=widgets.Layout(width='60%')\n",
        ")\n",
        "risk_button = widgets.Button(description=\"Assess Risk\", button_style='info')"
      ],
      "metadata": {
        "id": "sqtC9D-QGOAu"
      },
      "execution_count": null,
      "outputs": []
    },
    {
      "cell_type": "code",
      "source": [
        "def risk(ris):\n",
        "    clear_output(wait=True)\n",
        "    display(stock, risk_button)\n",
        "    print(\"=== Investment Risk Assessment ===\")\n",
        "    invest_risk(stock.value)"
      ],
      "metadata": {
        "id": "3bpU9IdzGN5N"
      },
      "execution_count": null,
      "outputs": []
    },
    {
      "cell_type": "code",
      "source": [
        "risk_button.on_click(risk)\n",
        "\n",
        "display(stock, risk_button)"
      ],
      "metadata": {
        "id": "lOj-MOyDGNyG"
      },
      "execution_count": null,
      "outputs": []
    },
    {
      "cell_type": "markdown",
      "source": [
        "## **🟢 Part 3: Loan Repayment Tracker [4 marks]**  \n",
        "\n",
        "📌 **Requirement:**  \n",
        "Customers who receive a loan should be able to track their **loan balance** as they make monthly payments. The system should:  \n",
        "✔ Start with an **initial loan balance** (e.g., PKR 500,000).  \n",
        "✔ Deduct a **fixed monthly payment** (e.g., PKR 25,000).  \n",
        "✔ Continue tracking until **loan balance reaches zero**.  \n",
        "✔ Display the remaining balance **after each payment**.  \n",
        "\n",
        "### **Implementation Steps:**  \n",
        "🔹 **Step 1:** Choose an appropriate loop (`for` or `while`).  \n",
        "🔹 **Step 2:** Ensure the loop **stops once the loan is fully paid**.  \n",
        "🔹 **Step 3:** Implement a Python program using **ipywidgets** to **simulate loan repayment interactively**.\n",
        "\n",
        "---"
      ],
      "metadata": {
        "id": "xTrlsvaZKhaQ"
      }
    },
    {
      "cell_type": "code",
      "source": [
        "def repay(ini_bal=500000, mon_pay=25000):\n",
        "    balance = ini_bal\n",
        "    month = 0\n",
        "    print(\"=== Loan Repayment Tracker ===\")\n",
        "    while balance > 0:\n",
        "        month += 1\n",
        "        balance -= mon_pay\n",
        "        if balance < 0:\n",
        "            balance = 0\n",
        "        print(f\"Month {month}: Remaining Balance = PKR {balance}\")"
      ],
      "metadata": {
        "id": "h3V9vFDjKvGH"
      },
      "execution_count": null,
      "outputs": []
    },
    {
      "cell_type": "code",
      "source": [
        "bal_widget = widgets.IntText(value=500000, description=\"Initial Balance (PKR):\", style={'description_width': 'initial'})\n",
        "pay_widget = widgets.IntText(value=25000, description=\"Monthly Payment (PKR):\", style={'description_width': 'initial'})\n",
        "repay_button = widgets.Button(description=\"Track Repayment\", button_style='warning')"
      ],
      "metadata": {
        "id": "InHYW7HOIViG"
      },
      "execution_count": null,
      "outputs": []
    },
    {
      "cell_type": "code",
      "source": [
        "def repayment(rep):\n",
        "    clear_output(wait=True)\n",
        "    display(bal_widget, pay_widget, repay_button)\n",
        "    repay(bal_widget.value, pay_widget.value)"
      ],
      "metadata": {
        "id": "qILUhy-jIVaG"
      },
      "execution_count": null,
      "outputs": []
    },
    {
      "cell_type": "code",
      "source": [
        "repay_button.on_click(repayment)\n",
        "\n",
        "display(bal_widget, pay_widget, repay_button)"
      ],
      "metadata": {
        "id": "GCSdBoufIVRe"
      },
      "execution_count": null,
      "outputs": []
    },
    {
      "cell_type": "markdown",
      "source": [
        "\n",
        "## **🟢 Part 4: Stock Price Monitoring and Trading Strategy [4 marks]**  \n",
        "\n",
        "📌 **Requirement:**  \n",
        "A stock trader wants to **track stock prices daily** and **sell when the price reaches PKR 200**. The system should:  \n",
        "✔ Iterate through a **list of stock prices**.  \n",
        "✔ **Skip missing stock data** (`None` values).  \n",
        "✔ Stop tracking **once the price reaches PKR 200**.  \n",
        "\n",
        "### **Implementation Steps:**  \n",
        "🔹 **Step 1:** Handle missing stock data using `continue`.  \n",
        "🔹 **Step 2:** Stop tracking once the stock hits the target price (`break`).  \n",
        "🔹 **Step 3:** Write a Python program using **ipywidgets** to **process stock prices interactively** and trigger alerts when conditions are met.\n",
        "\n",
        "---"
      ],
      "metadata": {
        "id": "3V72WRTcKc17"
      }
    },
    {
      "cell_type": "code",
      "source": [
        "def stock_price(prices_s):\n",
        "    try:\n",
        "        price_l = [s.strip() for s in prices_s.split(',')]\n",
        "        prices = []\n",
        "        for s in price_l:\n",
        "            if s.lower() == 'none' or s == '':\n",
        "                prices.append(None)\n",
        "            else:\n",
        "                prices.append(float(s))\n",
        "    except ValueError:\n",
        "        print(\"Invalid input. Please enter valid numbers or 'None' for missing data (e.g., 150, None, 160, ...).\")\n",
        "        return\n",
        "\n",
        "    print(\"=== Stock Price Monitoring ===\")\n",
        "    for price in prices:\n",
        "        if price is None:\n",
        "            print(\"Missing data, skipping...\")\n",
        "            continue\n",
        "        print(f\"Stock Price: PKR {price}\")\n",
        "        if price >= 200:\n",
        "            print(\"Alert: Stock has reached PKR 200. Time to sell!\")\n",
        "            break"
      ],
      "metadata": {
        "id": "G4v6qt6GKwFN"
      },
      "execution_count": null,
      "outputs": []
    },
    {
      "cell_type": "code",
      "source": [
        "stock_prices = widgets.Text(\n",
        "    value=\"150, None, 160, 180, 190, 200, 210\",\n",
        "    description=\"Stock Prices:\",\n",
        "    placeholder=\"Enter prices separated by commas\",\n",
        "    style={'description_width': 'initial'},\n",
        "    layout=widgets.Layout(width='60%')\n",
        ")\n",
        "stock_button = widgets.Button(description=\"Monitor Stock\", button_style='danger')"
      ],
      "metadata": {
        "id": "_m4QfFdsJLPe"
      },
      "execution_count": null,
      "outputs": []
    },
    {
      "cell_type": "code",
      "source": [
        "def stock(sto):\n",
        "    clear_output(wait=True)\n",
        "    display(stock_prices, stock_button)\n",
        "    stock_price(stock_prices.value)"
      ],
      "metadata": {
        "id": "rJ_GICudJLKd"
      },
      "execution_count": null,
      "outputs": []
    },
    {
      "cell_type": "code",
      "source": [
        "stock_button.on_click(stock)\n",
        "\n",
        "display(stock_prices, stock_button)"
      ],
      "metadata": {
        "id": "KCo0lkjqJLEm"
      },
      "execution_count": null,
      "outputs": []
    },
    {
      "cell_type": "markdown",
      "source": [
        "\n",
        "## **🟢 Part 5: Currency Exchange Rate Tracker [4 marks]**  \n",
        "\n",
        "📌 **Requirement:**  \n",
        "SecureBank provides **real-time currency exchange tracking**. The system should:  \n",
        "✔ Start at **PKR 290/USD**.  \n",
        "✔ Increase by **1 PKR per day** until it reaches **PKR 300/USD**.  \n",
        "✔ Print exchange rates daily and stop when the **target rate is reached**.  \n",
        "\n",
        "### **Implementation Steps:**  \n",
        "🔹 **Step 1:** Choose a suitable loop (`for` or `while`).  \n",
        "🔹 **Step 2:** Stop the loop when the exchange rate reaches the target.  \n",
        "🔹 **Step 3:** Implement a Python program using **ipywidgets** to **track the currency exchange rate interactively**.\n",
        "\n",
        "---"
      ],
      "metadata": {
        "id": "lD82JT7-KXqK"
      }
    },
    {
      "cell_type": "code",
      "source": [
        "def cur_exc(start_rate=290, target_rate=300, daily_increment=1):\n",
        "    rate = start_rate\n",
        "    day = 0\n",
        "    print(\"=== Currency Exchange Rate Tracker ===\")\n",
        "    while rate <= target_rate:\n",
        "        day += 1\n",
        "        print(f\"Day {day}: Exchange Rate = PKR {rate} USD\")\n",
        "        if rate >= target_rate:\n",
        "            print(\"Target exchange rate reached!\")\n",
        "            break\n",
        "        rate += daily_increment"
      ],
      "metadata": {
        "id": "3xiDWiabKwfr"
      },
      "execution_count": null,
      "outputs": []
    },
    {
      "cell_type": "code",
      "source": [
        "exc_rate = widgets.Button(description=\"Start Tracking Exchange Rate\", button_style='primary')"
      ],
      "metadata": {
        "id": "xmeV_10xWO4F"
      },
      "execution_count": null,
      "outputs": []
    },
    {
      "cell_type": "code",
      "source": [
        "def exchange(exc):\n",
        "    clear_output(wait=True)\n",
        "    display(exc_rate)\n",
        "    cur_exc()"
      ],
      "metadata": {
        "id": "ew7XtnI5WOzE"
      },
      "execution_count": null,
      "outputs": []
    },
    {
      "cell_type": "code",
      "source": [
        "exc_rate.on_click(exchange)\n",
        "\n",
        "display(exc_rate)"
      ],
      "metadata": {
        "id": "mempBZlGWOs9"
      },
      "execution_count": null,
      "outputs": []
    },
    {
      "cell_type": "markdown",
      "source": [
        "*   \n",
        "*\n",
        "*   \n",
        "*   \n",
        "*   \n",
        "*\n",
        "*   \n",
        "*"
      ],
      "metadata": {
        "id": "-gpSKR0APnLP"
      }
    },
    {
      "cell_type": "markdown",
      "source": [
        "\n",
        "\n",
        "---\n",
        "\n",
        "\n",
        "======================================== *to err is human* ========================================\n",
        "\n",
        "\n",
        "---\n",
        "\n"
      ],
      "metadata": {
        "id": "hUFnFKjmKxeH"
      }
    },
    {
      "cell_type": "markdown",
      "source": [
        "*   \n",
        "*\n",
        "*   \n",
        "*   \n",
        "*   \n",
        "*\n",
        "*   \n",
        "*\n",
        "\n",
        "---\n",
        "\n",
        "## **🎯 Grading Rubric (20 Marks)**  \n",
        "\n",
        "| **Criteria**           | **🌟 Excellent (4 Marks)** | **✅ Good (3 Marks)** | **⚠️ Satisfactory (2 Marks)** | **❌ Needs Improvement (1 Mark)** | **🚫 No Attempt (0 Marks)** |\n",
        "|------------------------|-----------------------|------------------|----------------------|----------------------|----------------------|\n",
        "| **📝 Loan Eligibility System**  | ✅ Correct logic with `ipywidgets`, handles user input well. | ⚠️ Mostly correct logic, minor issues. | ❌ Basic logic but missing conditions. | 🚫 Major errors in implementation. | ❌ No implementation. |\n",
        "| **📊 Investment Risk Assessment**  | ✅ Efficient looping with correct risk classification and `ipywidgets`. | ⚠️ Minor issues in logic or implementation. | ❌ Some conditions missing, basic implementation. | 🚫 Incorrect or incomplete logic. | ❌ No implementation. |\n",
        "| **💰 Loan Repayment Tracker**  | ✅ Tracks repayment correctly, interactive using `ipywidgets`. | ⚠️ Correct logic but missing interactivity. | ❌ Loop present but some logic missing. | 🚫 Incorrect approach. | ❌ No implementation. |\n",
        "| **📈 Stock Price Monitoring**  | ✅ Proper use of `continue` and `break`, handles missing values. | ⚠️ Minor logic issues, mostly correct. | ❌ Some conditions missing, partially correct. | 🚫 Incorrect logic, missing key elements. | ❌ No implementation. |\n",
        "| **💹 Currency Exchange Tracker**  | ✅ Correct loop, stops at target rate, structured well with `ipywidgets`. | ⚠️ Mostly correct, minor inefficiencies. | ❌ Incorrect stopping condition, basic implementation. | 🚫 Incorrect approach. | ❌ No implementation. |\n",
        "| **📜 Code Quality & Structure**  | ✅ Well-commented, clean code, follows best practices. | ⚠️ Mostly structured but needs better readability. | ❌ Works but lacks clarity. | 🚫 Unstructured, lacks comments. | ❌ No code present. |\n",
        "| **🎛️ Use of `ipywidgets`** | ✅ Used effectively in all parts, enhances interactivity. | ⚠️ Used in most parts but minor inefficiencies. | ❌ Implemented but not fully functional. | 🚫 Attempted but not used correctly. | ❌ No implementation. |\n",
        "| **📂 GitHub Submission & Documentation** | ✅ Well-structured repo, proper `README.md`. | ⚠️ Repo exists but lacks structured documentation. | ❌ Basic submission, missing details. | 🚫 Attempted but incomplete. | ❌ No submission. |\n",
        "| **📤 Google Classroom Submission** | ✅ Submitted correctly with all required elements. | ⚠️ Submitted but missing minor details. | ❌ Late submission or incomplete. | 🚫 Attempted but missing key parts. | ❌ No submission. |\n",
        "| **🔎 Overall Implementation & Accuracy** | ✅ All features implemented correctly, runs smoothly. | ⚠️ Most features implemented, minor issues. | ❌ Some features missing but basic functionality works. | 🚫 Major features missing. | ❌ No implementation. |\n",
        "\n",
        "---\n",
        "\n"
      ],
      "metadata": {
        "id": "E2rlRDSuPPRt"
      }
    },
    {
      "cell_type": "markdown",
      "source": [
        "*Follow the deadline. This is an individual assignment. Do not copy/paste from LLMs or from other students.*"
      ],
      "metadata": {
        "id": "-_kwwSB6PiZp"
      }
    }
  ]
}