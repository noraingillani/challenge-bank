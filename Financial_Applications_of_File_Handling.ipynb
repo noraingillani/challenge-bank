{
  "nbformat": 4,
  "nbformat_minor": 0,
  "metadata": {
    "colab": {
      "provenance": []
    },
    "kernelspec": {
      "name": "python3",
      "display_name": "Python 3"
    },
    "language_info": {
      "name": "python"
    }
  },
  "cells": [
    {
      "cell_type": "markdown",
      "source": [
        "### **📝 Task 1: Reading a Financial Transaction File**\n",
        "#### **🔹 Instructions**\n",
        "1. **Create a text file (`transactions.txt`)** containing the following sample financial transactions:\n",
        "   ```\n",
        "   Deposit: PKR 10,000\n",
        "   Withdrawal: PKR 5,000\n",
        "   Balance: PKR 50,000\n",
        "   ```\n",
        "2. **Write a Python program** to read and display the file content.\n",
        "3. **Ensure the file closes properly** to avoid memory leaks.\n"
      ],
      "metadata": {
        "id": "wSojEJcSizuj"
      }
    },
    {
      "cell_type": "code",
      "execution_count": 1,
      "metadata": {
        "colab": {
          "base_uri": "https://localhost:8080/"
        },
        "id": "DnuEtuF_ixIe",
        "outputId": "9ce8cb3b-1476-43e2-88da-54524064c806"
      },
      "outputs": [
        {
          "output_type": "stream",
          "name": "stdout",
          "text": [
            "Deposit: PKR 10,000\n",
            "Withdrawal: PKR 5,000\n",
            "Balance: PKR 50,000\n"
          ]
        }
      ],
      "source": [
        "file = open(\"transactions.txt\", 'r')\n",
        "print(file.read())\n",
        "file.close()"
      ]
    },
    {
      "cell_type": "markdown",
      "source": [
        "### **📝 Task 2: Writing New Transactions to a File**\n",
        "#### **🔹 Instructions**\n",
        "1. Modify the code to create a new file (`new_transactions.txt`).\n",
        "2. Write the following financial transactions to the file:\n",
        "   ```\n",
        "   Deposit: PKR 15,000\n",
        "   Withdrawal: PKR 3,000\n",
        "   Balance: PKR 62,000\n",
        "   ```\n",
        "3. Ensure each transaction is written on a **new line**.\n",
        "\n",
        "\n"
      ],
      "metadata": {
        "id": "9sO4bZMwi9Li"
      }
    },
    {
      "cell_type": "code",
      "source": [
        "with open(\"new_transactions.txt\", 'w') as file:\n",
        "  file.write(\"Deposit: PKR 15,000\\n\")\n",
        "  file.write(\"Withdrawal: PKR 3,000\\n\")\n",
        "  file.write(\"Balance: PKR 62,000\")\n"
      ],
      "metadata": {
        "id": "AM6v9HHSjEP6"
      },
      "execution_count": 2,
      "outputs": []
    },
    {
      "cell_type": "markdown",
      "source": [
        "### **📝 Task 3: Appending New Transactions**\n",
        "#### **🔹 Instructions**\n",
        "1. Modify the previous program to **append** the following new transactions instead of overwriting the file:\n",
        "   ```\n",
        "   Deposit: PKR 5,000\n",
        "   Withdrawal: PKR 1,500\n",
        "   ```\n",
        "2. Ensure the new transactions are added at the end of the file.\n",
        "3. Verify by opening and reading the file after appending.\n",
        "\n",
        "\n"
      ],
      "metadata": {
        "id": "i_zhguEojSg8"
      }
    },
    {
      "cell_type": "code",
      "source": [
        "with open(\"new_transactions.txt\", 'a') as file:\n",
        "  file.write(\"\\nDeposit: PKR 5,000\\n\")\n",
        "  file.write(\"Withdrawal: PKR 1,500\")\n"
      ],
      "metadata": {
        "id": "Qwqqp4u4kZOj"
      },
      "execution_count": 3,
      "outputs": []
    },
    {
      "cell_type": "markdown",
      "source": [
        "### **📝 Task 4: Reading a Large File Line by Line**\n",
        "#### **🔹 Instructions**\n",
        "1. Modify Task 1’s code to **read the file line by line** instead of loading it all at once.\n",
        "2. Use a loop to print each line individually.\n"
      ],
      "metadata": {
        "id": "LjMN69MCj2Ic"
      }
    },
    {
      "cell_type": "code",
      "source": [
        "with open(\"transactions.txt\", 'r') as file:\n",
        "  for line in file:\n",
        "    print(line.strip())"
      ],
      "metadata": {
        "colab": {
          "base_uri": "https://localhost:8080/"
        },
        "id": "9mfWwuGukcen",
        "outputId": "e9d602fe-4f5d-495c-d96a-7c3ecb5ba556"
      },
      "execution_count": 4,
      "outputs": [
        {
          "output_type": "stream",
          "name": "stdout",
          "text": [
            "Deposit: PKR 10,000\n",
            "Withdrawal: PKR 5,000\n",
            "Balance: PKR 50,000\n"
          ]
        }
      ]
    },
    {
      "cell_type": "markdown",
      "source": [
        "### **📝 Task 5: Using `with open()` for Safe File Handling**\n",
        "#### **🔹 Instructions**\n",
        "1. Modify Task 1’s code to use `with open()` for **automatic file closing**.\n",
        "2. Ensure the file closes automatically after reading."
      ],
      "metadata": {
        "id": "9_oQD2Puj6Zn"
      }
    },
    {
      "cell_type": "code",
      "source": [
        "with open(\"transactions.txt\", 'r') as file:\n",
        "  for line in file:\n",
        "    print(line.strip())"
      ],
      "metadata": {
        "colab": {
          "base_uri": "https://localhost:8080/"
        },
        "id": "I-e4j4tIkfph",
        "outputId": "5560eed4-347f-4ce5-99de-abd3d9476702"
      },
      "execution_count": 5,
      "outputs": [
        {
          "output_type": "stream",
          "name": "stdout",
          "text": [
            "Deposit: PKR 10,000\n",
            "Withdrawal: PKR 5,000\n",
            "Balance: PKR 50,000\n"
          ]
        }
      ]
    },
    {
      "cell_type": "markdown",
      "source": [
        "### **📝 Task 6: Creating a CSV File**\n",
        "#### **🔹 Instructions**\n",
        "1. Create a CSV file (`transactions.csv`) with the following financial transactions:\n",
        "   ```csv\n",
        "   Date,Transaction Type,Amount,Balance\n",
        "   2024-02-01,Deposit,10000,60000\n",
        "   2024-02-02,Withdrawal,2000,58000\n",
        "   2024-02-03,Deposit,5000,63000\n",
        "   ```\n",
        "2. Save this CSV file correctly.\n"
      ],
      "metadata": {
        "id": "RyK2RXAcj_X1"
      }
    },
    {
      "cell_type": "code",
      "source": [
        "import csv\n",
        "\n",
        "transactions = [[\"Date\", \"Transaction Type\", \"Amount\",\"Balance\"],\n",
        "                 [\"2024-02-01\",\"Deposit\",\"10000\",\"60000\"],\n",
        "                 [\"2024-02-02\",\"Withdrawal\",\"2000\",\"58000\"],\n",
        "                 [\"2024-02-03\",\"Deposit\",\"5000\",\"63000\"]]\n",
        "\n",
        "with open(\"transactions.csv\", 'w', newline=\"\") as file:\n",
        "  writer = csv.writer(file)\n",
        "  writer.writerows(transactions)"
      ],
      "metadata": {
        "id": "6iFdCLzDkhka"
      },
      "execution_count": 6,
      "outputs": []
    },
    {
      "cell_type": "markdown",
      "source": [
        "### **📝 Task 7: Reading a CSV File**\n",
        "#### **🔹 Instructions**\n",
        "1. Open and read the `transactions.csv` file.\n",
        "2. Print each row separately.\n"
      ],
      "metadata": {
        "id": "EGTT7kyXkCEw"
      }
    },
    {
      "cell_type": "code",
      "source": [
        "with open(\"transactions.csv\", 'r') as file:\n",
        "  reader = csv.reader(file)\n",
        "\n",
        "  for row in reader:\n",
        "    print(row)"
      ],
      "metadata": {
        "colab": {
          "base_uri": "https://localhost:8080/"
        },
        "id": "b5oQeRLZkkzL",
        "outputId": "796db455-32b8-4a42-e855-fa427e28814d"
      },
      "execution_count": 7,
      "outputs": [
        {
          "output_type": "stream",
          "name": "stdout",
          "text": [
            "['Date', 'Transaction Type', 'Amount', 'Balance']\n",
            "['2024-02-01', 'Deposit', '10000', '60000']\n",
            "['2024-02-02', 'Withdrawal', '2000', '58000']\n",
            "['2024-02-03', 'Deposit', '5000', '63000']\n"
          ]
        }
      ]
    },
    {
      "cell_type": "markdown",
      "source": [
        "### **📝 Task 8: Writing to a CSV File**\n",
        "#### **🔹 Instructions**\n",
        "1. Modify the code to write additional transactions to the CSV file.\n",
        "```csv\n",
        "2024-02-04, Deposit, 7000, 70000\n",
        "2024-02-05, Withdrawal, 3000, 67000\n",
        "```"
      ],
      "metadata": {
        "id": "1hR4pGZ5kGzV"
      }
    },
    {
      "cell_type": "code",
      "source": [
        "new_transactions = [[\"2024-02-04\", \"Deposit\", \"7000\", \"70000\"],\n",
        "                    [\"2024-02-05\", \"Withdrawal\", \"3000\", \"67000\"]]\n",
        "\n",
        "with open(\"transactions.csv\", 'a') as file:\n",
        "  writer = csv.writer(file)\n",
        "  writer.writerows(new_transactions)"
      ],
      "metadata": {
        "id": "jfQCCwerknn_"
      },
      "execution_count": 8,
      "outputs": []
    },
    {
      "cell_type": "markdown",
      "source": [
        "\n",
        "### **📝 Task 9: Reading a CSV with Pandas**\n",
        "#### **🔹 Instructions**\n",
        "1. Load `transactions.csv` into a Pandas DataFrame.\n",
        "2. Display the first 5 rows.\n"
      ],
      "metadata": {
        "id": "1nCprf7DkK1-"
      }
    },
    {
      "cell_type": "code",
      "source": [
        "import pandas as pd"
      ],
      "metadata": {
        "id": "TqNvTDVllNu_"
      },
      "execution_count": 9,
      "outputs": []
    },
    {
      "cell_type": "code",
      "source": [
        "df = pd.read_csv(\"transactions.csv\")\n",
        "print(df.head(5))"
      ],
      "metadata": {
        "colab": {
          "base_uri": "https://localhost:8080/"
        },
        "id": "eCXPpZBikrVs",
        "outputId": "fdb004db-72bd-400b-f579-9abd62d461a1"
      },
      "execution_count": 10,
      "outputs": [
        {
          "output_type": "stream",
          "name": "stdout",
          "text": [
            "         Date Transaction Type  Amount  Balance\n",
            "0  2024-02-01          Deposit   10000    60000\n",
            "1  2024-02-02       Withdrawal    2000    58000\n",
            "2  2024-02-03          Deposit    5000    63000\n",
            "3  2024-02-04          Deposit    7000    70000\n",
            "4  2024-02-05       Withdrawal    3000    67000\n"
          ]
        }
      ]
    },
    {
      "cell_type": "markdown",
      "source": [
        "\n",
        "### **📝 Bonus Task: Basic Data Operations with Pandas**\n",
        "#### **🔹 Instructions**\n",
        "1. Count the number of deposits and withdrawals.\n",
        "2. Display only transactions of type \"Deposit\".\n",
        "\n"
      ],
      "metadata": {
        "id": "FBezWiNEjIVG"
      }
    },
    {
      "cell_type": "code",
      "source": [
        "transaction_counts = df['Transaction Type'].value_counts()\n",
        "print(\"Number of transactions by type:\")\n",
        "print(transaction_counts)\n",
        "\n",
        "deposit_transactions = df[df['Transaction Type'] == 'Deposit']\n",
        "print(\"\\nDeposit transactions:\")\n",
        "print(deposit_transactions)"
      ],
      "metadata": {
        "colab": {
          "base_uri": "https://localhost:8080/"
        },
        "id": "syMv8c5Hkwx3",
        "outputId": "4a2f2a8c-fde1-4b54-ef38-55ae74f9614a"
      },
      "execution_count": 11,
      "outputs": [
        {
          "output_type": "stream",
          "name": "stdout",
          "text": [
            "Number of transactions by type:\n",
            "Transaction Type\n",
            "Deposit       3\n",
            "Withdrawal    2\n",
            "Name: count, dtype: int64\n",
            "\n",
            "Deposit transactions:\n",
            "         Date Transaction Type  Amount  Balance\n",
            "0  2024-02-01          Deposit   10000    60000\n",
            "2  2024-02-03          Deposit    5000    63000\n",
            "3  2024-02-04          Deposit    7000    70000\n"
          ]
        }
      ]
    }
  ]
}