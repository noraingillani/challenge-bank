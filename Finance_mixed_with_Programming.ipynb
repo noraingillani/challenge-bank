{
  "nbformat": 4,
  "nbformat_minor": 0,
  "metadata": {
    "colab": {
      "provenance": []
    },
    "kernelspec": {
      "name": "python3",
      "display_name": "Python 3"
    },
    "language_info": {
      "name": "python"
    }
  },
  "cells": [
    {
      "cell_type": "markdown",
      "source": [
        "### **Task 1: Declaring Financial Variables and Printing Values**\n",
        "**Objective:**  \n",
        "Learn how to define and use variables to represent financial data. This task helps you understand how to store values like stock prices and number of shares and perform simple calculations on them.\n",
        "\n",
        "**Instructions:**\n",
        "- Define a variable `stock_price` to store the price of a single stock.\n",
        "- Define `num_shares` to store the number of shares you have.\n",
        "- Calculate the `total_investment` by multiplying the stock price with the number of shares.\n",
        "- Print the values of `stock_price`, `num_shares`, and `total_investment`."
      ],
      "metadata": {
        "id": "g2mfR0Iwgfot"
      }
    },
    {
      "cell_type": "code",
      "execution_count": 1,
      "metadata": {
        "id": "nrYXh-x9gT95",
        "colab": {
          "base_uri": "https://localhost:8080/"
        },
        "outputId": "1d428a46-4c9a-414f-f25f-c47b49e3dc01"
      },
      "outputs": [
        {
          "output_type": "stream",
          "name": "stdout",
          "text": [
            "Stock Price: 2000   Number of Shares: 36.5   total_investment: 73000.0\n"
          ]
        }
      ],
      "source": [
        "stock_price = 2000\n",
        "num_shares = 36.5\n",
        "total_investment = stock_price * num_shares\n",
        "print(f\"Stock Price: {stock_price}   Number of Shares: {num_shares}   total_investment: {total_investment}\")"
      ]
    },
    {
      "cell_type": "markdown",
      "source": [
        "### **Task 2: Identifying Data Types in Finance**\n",
        "\n",
        "**Objective:**  \n",
        "Understand the different types of data used in financial calculations.\n",
        "\n",
        "**Instructions:**\n",
        "- Print the data types of `stock_price`, `num_shares`, and `total_investment` to understand how Python recognizes different types of values (e.g., numbers with decimals, integers, and results from calculations)."
      ],
      "metadata": {
        "id": "NQSefwJ5ld99"
      }
    },
    {
      "cell_type": "code",
      "source": [
        "print(f\"Stock Price: {type(stock_price)}   Number of Shares: {type(num_shares)}   total_investment: {type(total_investment)}\")"
      ],
      "metadata": {
        "id": "dLHleNH5liMG",
        "colab": {
          "base_uri": "https://localhost:8080/"
        },
        "outputId": "1798dd76-0107-4398-801a-a2fc2f673113"
      },
      "execution_count": 2,
      "outputs": [
        {
          "output_type": "stream",
          "name": "stdout",
          "text": [
            "Stock Price: <class 'int'>   Number of Shares: <class 'float'>   total_investment: <class 'float'>\n"
          ]
        }
      ]
    },
    {
      "cell_type": "markdown",
      "source": [
        "### **Task 3: Basic Arithmetic Operations for Finance**\n",
        "**Objective:**  \n",
        "Perform basic arithmetic operations commonly used in finance, such as calculating profit, loss, and percentage change.\n",
        "\n",
        "**Instructions:**\n",
        "- Define a `buying_price`, `selling_price` and `num_shares` for stock transactions.\n",
        "- Calculate the profit from the transaction (selling price minus buying price, multiplied by the number of shares).\n",
        "\n",
        "    **Profit** = (Selling Price - Buying Price) × Number of Shares\n",
        "\n",
        "- Calculate the percentage change in price from buying to selling.\n",
        "\n",
        "    **Percentage Change** = ((Selling Price - Buying Price) / Buying Price) × 100\n",
        "- Print the calculated profit and percentage change.\n"
      ],
      "metadata": {
        "id": "KAwpyGzwliub"
      }
    },
    {
      "cell_type": "code",
      "source": [
        "buying_price = 55000\n",
        "selling_price = 72000\n",
        "numofshares = 36.5\n",
        "Profit = (selling_price - buying_price) * numofshares\n",
        "Percentage = ((selling_price - buying_price) / numofshares) * 100\n",
        "print(f\"Profit: {Profit}     Percentage Change:  {Percentage}\")"
      ],
      "metadata": {
        "id": "IVRj9C53lm-d",
        "colab": {
          "base_uri": "https://localhost:8080/"
        },
        "outputId": "58eb5d9f-1787-4730-f9f0-4a8d5b12627f"
      },
      "execution_count": 3,
      "outputs": [
        {
          "output_type": "stream",
          "name": "stdout",
          "text": [
            "Profit: 620500.0     Percentage Change:  46575.34246575343\n"
          ]
        }
      ]
    },
    {
      "cell_type": "markdown",
      "source": [
        "# **Task 4: Practice with String Operations**\n",
        "\n",
        "This practice file is designed to help beginners explore various string operations in Python, such as case conversion, length calculation, word replacement, and substring manipulation. The exercises encourage understanding and experimentation with Python's string methods and functionalities.\n",
        "\n",
        "---\n",
        "\n",
        "## **Description of Exercises**\n",
        "\n",
        "### **1. Uppercase Conversion**\n",
        "- Create a variable with the word `\"python\"`.\n",
        "- Print the word in all uppercase letters.\n",
        "\n",
        "### **2. Lowercase Conversion**\n",
        "- Create a variable with the word `\"PROGRAMMING\"`.\n",
        "- Print the word in all lowercase letters.\n",
        "\n",
        "### **3. Word Length**\n",
        "- Get a word as input from the user.\n",
        "- Print the number of letters in the word.\n",
        "\n",
        "### **4. Word Replacement**\n",
        "- Create a sentence: `\"I like programming\"`.\n",
        "- Replace the word `\"programming\"` with `\"coding\"` and print the result.\n",
        "\n",
        "### **5. Full Name Joining**\n",
        "- Get the first name and last name as input from the user.\n",
        "- Join them with a space in between and print the full name.\n",
        "\n",
        "### **6. First and Last Letters**\n",
        "- Create a variable with a word.\n",
        "- Print the first letter of the word.\n",
        "- Print the last letter of the word.\n",
        "\n",
        "### **7. Substring Search**\n",
        "- Get a sentence as input from the user.\n",
        "- Check if the word `\"hello\"` exists in the sentence.\n",
        "- Print the result (True/False).\n",
        "\n",
        "### **8. Hyphenated Words**\n",
        "- Create two variables with words.\n",
        "- Join them together with a hyphen (`-`) in between.\n",
        "- Example: `word1 = \"blue\"`, `word2 = \"sky\"` → Output: `\"blue-sky\"`.\n",
        "\n",
        "### **Bonus Exercise: Word Repetition**\n",
        "- Get a word as input from the user.\n",
        "- Print the word 3 times, separated by spaces.\n",
        "  - Example: If the input is `\"hello\"`, the output should be: `\"hello hello hello\"`.\n",
        "\n",
        "---\n",
        "\n",
        "## **Learning Objectives**\n",
        "- Learn to manipulate strings with case conversion methods (`upper()`, `lower()`).\n",
        "- Practice counting characters using the `len()` function.\n",
        "- Understand how to replace parts of a string with the `replace()` method.\n",
        "- Explore joining and formatting strings.\n",
        "- Develop skills to check for substrings within larger strings.\n",
        "- Experiment with concatenation and repetition of strings.\n",
        "\n",
        "---\n",
        "\n"
      ],
      "metadata": {
        "id": "_bygM0DSlnZO"
      }
    },
    {
      "cell_type": "code",
      "source": [
        "\n",
        "# Example 1: Basic text operations\n",
        "print(\"Example 1: Playing with text\")\n",
        "message = \"hello\"\n",
        "print(\"Original text:\", message)\n",
        "print(\"UPPERCASE:\", message.upper())\n",
        "print(\"First letter:\", message[0])\n",
        "print()\n",
        "\n",
        "# Example 2: Joining words\n",
        "print(\"Example 2: Joining words\")\n",
        "first_word = \"blue\"\n",
        "second_word = \"sky\"\n",
        "joined_words = first_word + \" \" + second_word\n",
        "print(\"First word:\", first_word)\n",
        "print(\"Second word:\", second_word)\n",
        "print(\"Joined words:\", joined_words)\n",
        "print()\n",
        "\n",
        "# Example 3: Counting letters\n",
        "print(\"Example 3: Counting letters\")\n",
        "word = \"butterfly\"\n",
        "letter_count = len(word)\n",
        "print(\"The word is:\", word)\n",
        "print(\"Number of letters:\", letter_count)\n",
        "print()\n",
        "\n",
        "# Example 4: Finding words\n",
        "print(\"Example 4: Finding words\")\n",
        "sentence = \"I love pizza\"\n",
        "has_pizza = \"pizza\" in sentence\n",
        "print(\"The sentence:\", sentence)\n",
        "print(\"Does it contain 'pizza'?\", has_pizza)\n",
        "print()\n",
        "\n",
        "# Example 5: Simple text replacement\n",
        "print(\"Example 5: Replacing words\")\n",
        "my_food = \"I like pasta\"\n",
        "new_food = my_food.replace(\"pasta\", \"pizza\")\n",
        "print(\"Original:\", my_food)\n",
        "print(\"After replacement:\", new_food)\n"
      ],
      "metadata": {
        "id": "fLljwCpOlwDF",
        "colab": {
          "base_uri": "https://localhost:8080/"
        },
        "outputId": "3dd9ba4b-d598-4ae1-e98c-9aadef88819a"
      },
      "execution_count": 4,
      "outputs": [
        {
          "output_type": "stream",
          "name": "stdout",
          "text": [
            "Example 1: Playing with text\n",
            "Original text: hello\n",
            "UPPERCASE: HELLO\n",
            "First letter: h\n",
            "\n",
            "Example 2: Joining words\n",
            "First word: blue\n",
            "Second word: sky\n",
            "Joined words: blue sky\n",
            "\n",
            "Example 3: Counting letters\n",
            "The word is: butterfly\n",
            "Number of letters: 9\n",
            "\n",
            "Example 4: Finding words\n",
            "The sentence: I love pizza\n",
            "Does it contain 'pizza'? True\n",
            "\n",
            "Example 5: Replacing words\n",
            "Original: I like pasta\n",
            "After replacement: I like pizza\n"
          ]
        }
      ]
    },
    {
      "cell_type": "code",
      "source": [
        "\n",
        "\n",
        "# 1. Create a variable with the word \"python\"\n",
        "# Print it in all uppercase letters\n",
        "name1 = \"python\"\n",
        "print(f\"Name: {name1}    Name in Upper Case: {name1.upper()}\")\n",
        "\n",
        "# 2. Create a variable with the word \"PROGRAMMING\"\n",
        "# Print it in all lowercase letters\n",
        "name2 = \"PROGRAMMING\"\n",
        "print(f\"Name: {name2}   Name in Lower Case: {name2.lower()}\")\n",
        "\n",
        "# 3. Get a word from user\n",
        "# Print how many letters are in that word\n",
        "name3 = input(\"Enter a word: \")\n",
        "print(f\"Letters in the word: {len(name3)}\")\n",
        "\n",
        "# 4. Create a sentence: \"I like programming\"\n",
        "# Replace \"programming\" with \"coding\"\n",
        "sentence1 = \"I like programming\"\n",
        "sentence2 = sentence1.replace(\"programming\", \"coding\")\n",
        "print(f\"Sentence: {sentence1}    Replaced it with: {sentence2}\")\n",
        "\n",
        "# 5. Get a first name from user\n",
        "# Get a last name from user\n",
        "# Join them with a space in between\n",
        "first_name = input(\"Enter your first name: \")\n",
        "last_name = input(\"Enter your last name: \")\n",
        "print(f\"Hello {first_name} {last_name}!\")\n",
        "\n",
        "# 6. Create a word variable\n",
        "# Print its first letter\n",
        "# Print its last letter\n",
        "word1 = \"Noori\"\n",
        "print(f\"First letter: {word1[0]}   Last letter: {word1[-1]}\")\n",
        "\n",
        "# 7. Get a sentence from user\n",
        "# Check if the word \"hello\" is in that sentence\n",
        "# Print the result\n",
        "user_sentence = input(\"Enter a sentence: \")\n",
        "findingword = \"hello\"\n",
        "a = user_sentence.lower()\n",
        "if findingword in a:\n",
        "  print(\"You said Hello\")\n",
        "else:\n",
        "  print(\"You did not say Hello\")\n",
        "# 8. Create two variables with words\n",
        "# Print them together with a hyphen in between\n",
        "# Example: word1 = \"blue\", word2 = \"sky\" → \"blue-sky\"\n",
        "words1 = \"Chelsea\"\n",
        "words2 = \"FC\"\n",
        "print(f\"{words1}-{words2}\")\n"
      ],
      "metadata": {
        "id": "Xkh4HHpFwX-k",
        "colab": {
          "base_uri": "https://localhost:8080/"
        },
        "outputId": "538fbff1-e666-41a4-8089-121aa09d1c61"
      },
      "execution_count": 5,
      "outputs": [
        {
          "output_type": "stream",
          "name": "stdout",
          "text": [
            "Name: python    Name in Upper Case: PYTHON\n",
            "Name: PROGRAMMING   Name in Lower Case: programming\n",
            "Enter a word: Norain\n",
            "Letters in the word: 6\n",
            "Sentence: I like programming    Replaced it with: I like coding\n",
            "Enter your first name: Syed\n",
            "Enter your last name: Gillani\n",
            "Hello Syed Gillani!\n",
            "First letter: N   Last letter: i\n",
            "Enter a sentence: Hello World. It's me.\n",
            "You said Hello\n",
            "Chelsea-FC\n"
          ]
        }
      ]
    },
    {
      "cell_type": "markdown",
      "source": [
        "### **Task 5: Calculate Total Cost of Investment**\n",
        "\n",
        "**Objective:**  \n",
        "Calculate the total cost of an investment based on the stock name, price per share, and number of shares the user wants to buy.\n",
        "\n",
        "### Instructions:\n",
        "1. Prompt the user to input the following:\n",
        "   - **Stock Name**: The name of the stock.\n",
        "   - **Price per Share**: The price of one share of the stock.\n",
        "   - **Number of Shares**: The number of shares the user wants to buy.\n",
        "2. Use the formula to calculate the total cost of the investment:\n",
        "\n",
        "   **Total Cost** = Price per Share × Number of Shares\n",
        "\n",
        "*   List item\n",
        "*   List item\n",
        "\n",
        "\n",
        "3. Display the **Total Cost** of the investment to the user.\n",
        "   "
      ],
      "metadata": {
        "id": "KxIMOLlQlwfG"
      }
    },
    {
      "cell_type": "code",
      "source": [
        "stock_name = input(\"Enter the name of the Stock: \")\n",
        "price_per_share = input(\"Enter the price of one share of the stock: \")\n",
        "num_shares = input(\"Enter the number of share you want to buy: \")\n",
        "Total = int(price_per_share) * int(num_shares)\n",
        "print(f\"Total Cost for {stock_name} is: {Total}\")"
      ],
      "metadata": {
        "id": "fugul8HMlzHx",
        "colab": {
          "base_uri": "https://localhost:8080/"
        },
        "outputId": "ce19c721-bd4d-49ef-92d3-bf58a75a2d6c"
      },
      "execution_count": 6,
      "outputs": [
        {
          "output_type": "stream",
          "name": "stdout",
          "text": [
            "Enter the name of the Stock: AAPL\n",
            "Enter the price of one share of the stock: 250\n",
            "Enter the number of share you want to buy: 55\n",
            "Total Cost for AAPL is: 13750\n"
          ]
        }
      ]
    },
    {
      "cell_type": "markdown",
      "source": [
        "### **Task 6: Simple Interest Calculator for Investment Growth**\n",
        "**Objective:**  \n",
        "Apply basic financial formulas to calculate the growth of an investment using simple interest.\n",
        "\n",
        "**Instructions:**\n",
        "- Ask the user for the principal amount (initial investment), interest rate, and the time period (in years).\n",
        "- Calculate the simple interest using the formula: Interest = (Principal * Rate * Time) / 100.\n",
        "- Calculate and display the total amount after adding the interest to the principal."
      ],
      "metadata": {
        "id": "SB6mP3Tllzio"
      }
    },
    {
      "cell_type": "code",
      "source": [
        "amount = input(\"Enter Initial Investment: \")\n",
        "interest1 = input(\"Enter interest amount: \")\n",
        "period = input(\"Enter Time Period: \")\n",
        "interest2 = (int(amount) * int(interest1) * int(period)) / 100\n",
        "Total = int(amount) + int(interest2)\n",
        "print(f\"Total Amount: {Total}\")"
      ],
      "metadata": {
        "id": "jGwGSAqQl3YN",
        "colab": {
          "base_uri": "https://localhost:8080/"
        },
        "outputId": "13efba97-f8e0-46ee-c234-60fa3372e5ea"
      },
      "execution_count": 7,
      "outputs": [
        {
          "output_type": "stream",
          "name": "stdout",
          "text": [
            "Enter Initial Investment: 50000\n",
            "Enter interest amount: 20\n",
            "Enter Time Period: 3\n",
            "Total Amount: 80000\n"
          ]
        }
      ]
    },
    {
      "cell_type": "markdown",
      "source": [
        "### **Task 7: Currency Conversion Calculator**\n",
        "**Objective:**  \n",
        "Convert currency values from USD to other major currencies.  \n",
        "\n",
        "**Instructions:**  \n",
        "1. Ask the user for an amount in **USD**.  \n",
        "2. Convert the amount into the following currencies using **fixed exchange rates** (example rates as of 2025, update as needed):  \n",
        "   - **Euros (EUR)** → 1 USD = 0.91 EUR  \n",
        "   - **British Pounds (GBP)** → 1 USD = 0.76 GBP  \n",
        "   - **Pakistani Rupees (PKR)** → 1 USD = 280 PKR  \n"
      ],
      "metadata": {
        "id": "5Rf8jI6QmA-u"
      }
    },
    {
      "cell_type": "code",
      "source": [
        "Amount = input(\"Enter amount in USD: \")\n",
        "euro = int(Amount) * 0.91\n",
        "pounds = int(Amount) * 0.76\n",
        "pkr = int(Amount) * 280\n",
        "print(f\"Amount in USD: {Amount}   Euro: {euro}   Pounds: {pounds}   pkr: {pkr}\")"
      ],
      "metadata": {
        "id": "MiWx357tmGFp",
        "colab": {
          "base_uri": "https://localhost:8080/"
        },
        "outputId": "1fe2aba5-58f2-4d4d-cbab-f2d49fe9dfa0"
      },
      "execution_count": 8,
      "outputs": [
        {
          "output_type": "stream",
          "name": "stdout",
          "text": [
            "Enter amount in USD: 1\n",
            "Amount in USD: 1   Euro: 0.91   Pounds: 0.76   pkr: 280\n"
          ]
        }
      ]
    },
    {
      "cell_type": "markdown",
      "source": [
        "### **Task 8: Finding the Largest Investment Value**\n",
        "**Objective:**  \n",
        "Compare investment amounts to determine the largest value.  \n",
        "\n",
        "**Instructions:**  \n",
        "1. Ask the user to enter **three different investment amounts**.  \n",
        "2. Use Python’s built-in functions to determine the **largest investment**.  "
      ],
      "metadata": {
        "id": "mLwwXRcAtnNr"
      }
    },
    {
      "cell_type": "code",
      "source": [
        "inv1 = input(\"Enter first Investment Amount: \")\n",
        "inv2 = input(\"Enter second Investment Amount: \")\n",
        "inv3 = input(\"Enter third Investment Amount: \")\n",
        "if inv1 > inv2 and inv1 > inv3:\n",
        "  print(f\"Largest investment: {inv1}\")\n",
        "elif inv2 > inv1 and inv2 > inv3:\n",
        "  print(f\"Largest investment: {inv2}\")\n",
        "else:\n",
        "    print(f\"Largest investment: {inv3}/n\")\n",
        "\n",
        "\n",
        "Max= max(inv1, inv2, inv3)\n",
        "print(Max)"
      ],
      "metadata": {
        "id": "YDDXstK-tsmm",
        "colab": {
          "base_uri": "https://localhost:8080/"
        },
        "outputId": "6ebf3ea0-8bcb-4efb-f6ea-874e701800b6"
      },
      "execution_count": 10,
      "outputs": [
        {
          "output_type": "stream",
          "name": "stdout",
          "text": [
            "Enter first Investment Amount: 20000\n",
            "Enter second Investment Amount: 50000\n",
            "Enter third Investment Amount: 45000\n",
            "Largest investment: 50000\n",
            "50000\n"
          ]
        }
      ]
    },
    {
      "cell_type": "markdown",
      "source": [
        "### **Task 9: Simple Calculator for Basic Operations**\n",
        "\n",
        "**Objective:**  \n",
        "Create a simple calculator program that performs basic arithmetic operations on two numbers. The user is prompted to enter two numbers, and the program automatically performs the following operations:\n",
        "\n",
        "- **Addition**\n",
        "- **Subtraction**\n",
        "- **Multiplication**\n",
        "- **Division** (with a check for division by zero)\n",
        "- **Exponentiation**\n",
        "\n",
        "### Instructions:\n",
        "1. The program will ask the user to input two numbers.\n",
        "2. The program will then display the results of the following operations on the two numbers:\n",
        "   - **Addition**: Adds the two numbers.\n",
        "   - **Subtraction**: Subtracts the second number from the first number.\n",
        "   - **Multiplication**: Multiplies the two numbers.\n",
        "   - **Division**: Divides the first number by the second number. If division by zero is attempted, the program will display an error message.\n",
        "   - **Exponentiation**: Raises the first number to the power of the second number.\n",
        "   \n",
        "\n"
      ],
      "metadata": {
        "id": "gma9brebt0Px"
      }
    },
    {
      "cell_type": "code",
      "source": [
        "num1 = int(input(\"Enter the first number: \"))\n",
        "num2 = int(input(\"Enter the second number: \"))\n",
        "add = int(num1) + int(num2)\n",
        "sub = int(num1) - int(num2)\n",
        "mult = int(num1) * int(num2)\n",
        "div = int(num1) / int(num2)\n",
        "exp = num1 ** num2\n",
        "\n",
        "print(f\"Addition: {add}   Substraction: {sub}   Multiplication: {mult}   Division: {div}   Exponentiation: {exp}\")"
      ],
      "metadata": {
        "colab": {
          "base_uri": "https://localhost:8080/"
        },
        "id": "znutdzrbjVUC",
        "outputId": "1ec7eef4-711a-45ec-bb65-b9c2767a71cc"
      },
      "execution_count": 11,
      "outputs": [
        {
          "output_type": "stream",
          "name": "stdout",
          "text": [
            "Enter the first number: 5\n",
            "Enter the second number: 7\n",
            "Addition: 12   Substraction: -2   Multiplication: 35   Division: 0.7142857142857143   Exponentiation: 78125\n"
          ]
        }
      ]
    },
    {
      "cell_type": "markdown",
      "source": [
        "### **Task 10: Calculate Compound Interest**\n",
        "\n",
        "**Objective:**  \n",
        "Create a program that calculates the compound interest on an investment.\n",
        "\n",
        "### Instructions:\n",
        "1. Ask the user to input:\n",
        "   - **Principal** (Initial Investment)\n",
        "   - **Rate** (Annual Interest Rate in percentage)\n",
        "   - **Time** (Number of years)\n",
        "   - **Frequency** (Number of times the interest is compounded per year)\n",
        "\n",
        "2. Use the compound interest formula:\n",
        "            A = P * (1 + r/n)^(nt)\n",
        "Where:\n",
        "- **A** = Final amount after interest\n",
        "- **P** = Principal (Initial investment)\n",
        "- **r** = Annual interest rate (decimal form)\n",
        "- **t** = Time in years\n",
        "- **n** = Number of times the interest is compounded per year\n",
        "\n",
        "3. Calculate the compound interest:\n",
        "        Compound Interest = A - P\n",
        "\n",
        "\n",
        "4. Display the **compound interest** and the **final amount**.\n",
        "\n",
        "\n"
      ],
      "metadata": {
        "id": "1Ys9mGiymFIJ"
      }
    },
    {
      "cell_type": "code",
      "source": [
        "P = int(input(\"Enter Initial Investment: \"))\n",
        "r = 0.05\n",
        "t = int(input(\"Enter time period: \"))\n",
        "n = int(input(\"Enter Number of times the interest is compounded per year: \"))\n",
        "A = P * (1 + (r/n))**(n * t)\n",
        "Coumpound_Interest = A - P\n",
        "print(f\"Compound Interest: {Coumpound_Interest}\")"
      ],
      "metadata": {
        "id": "Nw4Mg7YBmH2c",
        "colab": {
          "base_uri": "https://localhost:8080/"
        },
        "outputId": "9de51034-2cc0-4db2-d1ce-ce38267aa688"
      },
      "execution_count": 12,
      "outputs": [
        {
          "output_type": "stream",
          "name": "stdout",
          "text": [
            "Enter Initial Investment: 5000\n",
            "Enter time period: 3\n",
            "Enter Number of times the interest is compounded per year: 2\n",
            "Compound Interest: 798.46709106445\n"
          ]
        }
      ]
    },
    {
      "cell_type": "markdown",
      "source": [
        "### Final Deliverables\n",
        "- Submit a Notebook (.ipynb) file containing all tasks.\n",
        "- Submit it on Google Classroom following the naming convention.\n",
        "- Ensure originality; AI-generated code is not allowed."
      ],
      "metadata": {
        "id": "Ijwus5kEmR9n"
      }
    }
  ]
}