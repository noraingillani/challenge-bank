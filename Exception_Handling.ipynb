{
  "nbformat": 4,
  "nbformat_minor": 0,
  "metadata": {
    "colab": {
      "provenance": []
    },
    "kernelspec": {
      "name": "python3",
      "display_name": "Python 3"
    },
    "language_info": {
      "name": "python"
    }
  },
  "cells": [
    {
      "cell_type": "markdown",
      "source": [
        "## **Task 1: Identifying Common Exceptions**\n",
        "\n",
        "**Objective:** Learn to recognize and handle common Python exceptions.\n",
        "\n",
        "🔹 **Instructions:**\n",
        "\n",
        "1. Write a Python program that performs the following operations:\n",
        "   - Divides a number by zero.\n",
        "   - Tries to access a variable that has not been defined.\n",
        "   - Attempts to convert an invalid string (`\"abc\"`) to an integer.\n",
        "   - Tries to access a dictionary key that does not exist.\n",
        "2. Use `try-except` blocks to handle each of these errors.\n",
        "3. Display a user-friendly message explaining the error when an exception occurs."
      ],
      "metadata": {
        "id": "TDmrc-2DZoB4"
      }
    },
    {
      "cell_type": "code",
      "source": [
        "try:\n",
        "  val1 = int(input(\"Enter a number: \"))\n",
        "  val2 = int(input(\"Enter another number: \"))\n",
        "  op = input(\"Enter the operator: \\n1. Add\\n2. Substract\\n3. Multiply\\n4. Division\\n\")\n",
        "  if op == \"1\":\n",
        "    print(f\"Values Added: {val1 + val2}\")\n",
        "  elif op == \"2\":\n",
        "    print(f\"Values Substracted: {val1 - val2}\")\n",
        "  elif op == \"3\":\n",
        "    print(f\"Values Multiplied: {val1 * val2}\")\n",
        "  elif op == \"4\":\n",
        "    print(f\"Values Divided: {val1 / val2}\")\n",
        "  else:\n",
        "    print(\"Wrong Operator\")\n",
        "except ZeroDivisionError:\n",
        "  print(\"Error! You are dividing it by zero\")\n",
        "except ValueError:\n",
        "  print(\"Invalid Input!\")\n",
        "\n",
        "try:\n",
        "  val3 = {\"Jan\": \"January\", \"Feb\": \"February\", \"Mar\": \"March\"}\n",
        "  month1 = val3[\"Jan\"]\n",
        "  month2 = val3[\"Apr\"]\n",
        "  print(f\"{month1}     {month2}\")\n",
        "except KeyError:\n",
        "  print(\"Error! Month not found\")"
      ],
      "metadata": {
        "id": "mB49nrcJjgAt",
        "colab": {
          "base_uri": "https://localhost:8080/"
        },
        "outputId": "46238cc2-006b-4738-e60a-f43aaeed0088"
      },
      "execution_count": 3,
      "outputs": [
        {
          "output_type": "stream",
          "name": "stdout",
          "text": [
            "Enter a number: 5\n",
            "Enter another number: 7\n",
            "Enter the operator: \n",
            "1. Add\n",
            "2. Substract\n",
            "3. Multiply\n",
            "4. Division\n",
            "3\n",
            "Values Multiplied: 35\n",
            "Error! Month not found\n"
          ]
        }
      ]
    },
    {
      "cell_type": "markdown",
      "source": [
        "## **Task 2: Using `try-except-else-finally`**\n",
        "\n",
        "**Objective:** Learn to use complete exception handling structures.\n",
        "\n",
        "**Instructions:**\n",
        "\n",
        "1. Write a Python function that:\n",
        "   - Asks the user to enter two numbers.\n",
        "   - Attempts to divide the first number by the second.\n",
        "   - Uses `try-except` to handle errors such as division by zero and invalid inputs.\n",
        "   - Uses `else` to display the result if no error occurs.\n",
        "   - Uses `finally` to print a message indicating that execution is complete."
      ],
      "metadata": {
        "id": "psq_lx4yjWeu"
      }
    },
    {
      "cell_type": "code",
      "source": [
        "try:\n",
        "  val1 = int(input(\"Enter a number: \"))\n",
        "  val2 = int(input(\"Enter another number: \"))\n",
        "  op = input(\"Enter the operator: \\n1. Add\\n2. Substract\\n3. Multiply\\n4. Division\\n\")\n",
        "  if op == \"1\":\n",
        "    print(f\"Values Added: {val1 + val2}\")\n",
        "  elif op == \"2\":\n",
        "    print(f\"Values Substracted: {val1 - val2}\")\n",
        "  elif op == \"3\":\n",
        "    print(f\"Values Multiplied: {val1 * val2}\")\n",
        "  elif op == \"4\":\n",
        "    print(f\"Values Divided: {val1 / val2}\")\n",
        "  else:\n",
        "    print(\"Wrong Operator\")\n",
        "except ZeroDivisionError:\n",
        "  print(\"Error! You are dividing it by zero\")\n",
        "except ValueError:\n",
        "  print(\"Invalid Input!\")\n",
        "finally:\n",
        "  print(\"Execution is Complete!\")"
      ],
      "metadata": {
        "id": "qz7VowtNjOrG",
        "colab": {
          "base_uri": "https://localhost:8080/"
        },
        "outputId": "74d37521-28a2-475d-b8a7-0d7d10ff4338"
      },
      "execution_count": 4,
      "outputs": [
        {
          "output_type": "stream",
          "name": "stdout",
          "text": [
            "Enter a number: 6\n",
            "Enter another number: 0\n",
            "Enter the operator: \n",
            "1. Add\n",
            "2. Substract\n",
            "3. Multiply\n",
            "4. Division\n",
            "4\n",
            "Error! You are dividing it by zero\n",
            "Execution is Complete!\n"
          ]
        }
      ]
    },
    {
      "cell_type": "markdown",
      "source": [
        "## **Task 3: Handling Nested Exceptions**\n",
        "\n",
        "**Objective:** Handle exceptions using nested `try-except` blocks.\n",
        "\n",
        "**Instructions:**\n",
        "\n",
        "1. Write a Python function that:\n",
        "   - Asks the user to enter a filename.\n",
        "   - Tries to open the file for reading.\n",
        "   - Asks the user to enter a number and divides 100 by that number.\n",
        "2. Implement nested `try-except` blocks to handle both `FileNotFoundError` (if the file is missing) and `ZeroDivisionError` (if division by zero occurs).\n",
        "3. Display appropriate error messages and ensure the program completes execution."
      ],
      "metadata": {
        "id": "Hb9LysAkjF1A"
      }
    },
    {
      "cell_type": "code",
      "source": [
        "try:\n",
        "  fname = input(\"Enter the file name: \")\n",
        "  with open(fname, 'r') as file:\n",
        "    print(file.read())\n",
        "  num1 = int(input(\"Enter a number you want to divide 100 by: \"))\n",
        "  print(f\"Division: {100 / num1}\")\n",
        "except FileNotFoundError:\n",
        "  print(\"File not found!\")\n",
        "except ZeroDivisionError:\n",
        "  print(\"Error! Cannot be divided by 0\")\n",
        "finally:\n",
        "  print(\"Execution is Complete!\")"
      ],
      "metadata": {
        "id": "Z0QV5Z0fjDNc",
        "colab": {
          "base_uri": "https://localhost:8080/"
        },
        "outputId": "3294da38-4db6-44dc-ef65-c3a5730675c2"
      },
      "execution_count": 7,
      "outputs": [
        {
          "output_type": "stream",
          "name": "stdout",
          "text": [
            "Enter the file name: number.txt\n",
            "Deposit = 5000\n",
            "Withdrawal = 2000\n",
            "Enter a number you want to divide 100 by: 50\n",
            "Division: 2.0\n",
            "Execution is Complete!\n"
          ]
        }
      ]
    },
    {
      "cell_type": "markdown",
      "source": [
        "## **Task 4: Exception Handling in Financial Calculations**\n",
        "\n",
        "**Objective:** Implement exception handling in financial calculations.\n",
        "\n",
        "**Instructions:**\n",
        "\n",
        "1. Create a list of stock prices, some of which include zero or non-numeric values.\n",
        "2. Attempt to calculate the percentage change between consecutive prices.\n",
        "3. Handle errors caused by division by zero and invalid data types.\n",
        "4. Ensure that the program continues running even when errors occur."
      ],
      "metadata": {
        "id": "ivTzDRFei-SY"
      }
    },
    {
      "cell_type": "code",
      "source": [
        "from re import I\n",
        "stock_prices = [30, 80, 70, 0, \"abcd\"]\n",
        "try:\n",
        "  for a in range(1, len(stock_prices)):\n",
        "    current = float(stock_prices[a])\n",
        "    previous = float(stock_prices[a-1])\n",
        "    perc = (current - previous) / (previous * 100)\n",
        "    print(perc)\n",
        "except ZeroDivisionError:\n",
        "  print(\"Error! Cannot be divided by Zero.\")\n",
        "except ValueError:\n",
        "  print(\"Invalid Data Type\")"
      ],
      "metadata": {
        "id": "jFhlAGldi49s",
        "colab": {
          "base_uri": "https://localhost:8080/"
        },
        "outputId": "a72a72db-43b8-4bb6-f3e5-4eec6e4ad311"
      },
      "execution_count": 8,
      "outputs": [
        {
          "output_type": "stream",
          "name": "stdout",
          "text": [
            "0.016666666666666666\n",
            "-0.00125\n",
            "-0.01\n",
            "Invalid Data Type\n"
          ]
        }
      ]
    },
    {
      "cell_type": "markdown",
      "source": [
        "## **Task 5: Exception Handling in File Operations**\n",
        "\n",
        "**Objective:** Learn to handle file-related errors.\n",
        "\n",
        "**Instructions:**\n",
        "\n",
        "1. Ask the user for a filename.\n",
        "2. Try to open and read the file.\n",
        "3. Handle `FileNotFoundError` if the file does not exist.\n",
        "4. Use `finally` to print a completion message."
      ],
      "metadata": {
        "id": "DEQZUxY8iugd"
      }
    },
    {
      "cell_type": "code",
      "source": [
        "try:\n",
        "  fname = input(\"Enter the file name: \")\n",
        "  with open(fname, 'r') as file:\n",
        "    print(file.read())\n",
        "except FileNotFoundError:\n",
        "  print(\"File not found!\")\n",
        "finally:\n",
        "  print(\"Execution is Completed!\")"
      ],
      "metadata": {
        "id": "QAkka23_ir6H",
        "colab": {
          "base_uri": "https://localhost:8080/"
        },
        "outputId": "470b26f4-5e74-4d8b-b11c-e01be94b6eac"
      },
      "execution_count": 9,
      "outputs": [
        {
          "output_type": "stream",
          "name": "stdout",
          "text": [
            "Enter the file name: l.\n",
            "File not found!\n",
            "Execution is Completed!\n"
          ]
        }
      ]
    },
    {
      "cell_type": "markdown",
      "source": [
        "## **Task 6: Raising Custom Exceptions Without Classes**\n",
        "\n",
        "**Objective:** Learn to raise and handle specific exceptions.\n",
        "\n",
        "**Instructions:**\n",
        "\n",
        "1. Write a function that checks if a number is negative.\n",
        "2. If the number is negative, raise a `ValueError`.\n",
        "3. Handle the exception with an appropriate message."
      ],
      "metadata": {
        "id": "WyhcCwlhicUl"
      }
    },
    {
      "cell_type": "code",
      "execution_count": 10,
      "metadata": {
        "id": "ySZnVpRhiGiH",
        "colab": {
          "base_uri": "https://localhost:8080/"
        },
        "outputId": "a2a98e7b-1449-4453-9bde-63e129a1f77d"
      },
      "outputs": [
        {
          "output_type": "stream",
          "name": "stdout",
          "text": [
            "Enter a positive number: -5\n",
            "Error: Number is Negative!\n"
          ]
        }
      ],
      "source": [
        "def number():\n",
        "    try:\n",
        "        a = float(input(\"Enter a positive number: \"))\n",
        "        if a < 0:\n",
        "            raise ValueError(\"Number is Negative!\")\n",
        "        return f\"Number is Positive: {a}\"\n",
        "    except ValueError as e:\n",
        "        return f\"Error: {e}\"\n",
        "\n",
        "print(number())"
      ]
    },
    {
      "cell_type": "markdown",
      "source": [
        "## **Task 7: Loan Eligibility Check with Exception Handling**  \n",
        "**Objective:** Implement exception handling in a financial scenario to determine loan eligibility.  \n",
        "\n",
        "**Instructions:**  \n",
        "1. Ask the user to enter:  \n",
        "   - Their **age** (must be an integer and ≥ 18).  \n",
        "   - Their **monthly income** (must be a positive number).  \n",
        "   - Their **loan amount requested** (must not exceed 10 times their income).  \n",
        "2. Use `try-except` to handle the following errors:  \n",
        "   - If age is less than 18, raise a **ValueError**.  \n",
        "   - If income or loan amount is invalid (negative or zero), raise a **ValueError**.  \n",
        "   - If the loan amount is too high (more than 10 times the income), raise a **custom exception** with a relevant message.  \n",
        "3. Print a message indicating whether the loan is **approved** or **denied**.  \n"
      ],
      "metadata": {
        "id": "sdoCtY_ymIVf"
      }
    },
    {
      "cell_type": "code",
      "source": [
        "def loan():\n",
        "  age = int(input(\"Enter Age: \"))\n",
        "  income = float(input(\"Enter Income: \"))\n",
        "  req = float(input(\"Enter the loan amount requested: \"))\n",
        "  try:\n",
        "    if age < 18:\n",
        "        raise ValueError(\"Age is Less than 18!\")\n",
        "    elif income <= 0:\n",
        "        raise ValueError(\"Income is too low!\")\n",
        "    elif req > income * 10:\n",
        "        raise ValueError(\"the loan amount you requested is too high\")\n",
        "    else:\n",
        "      print(\"Loan Approved!\")\n",
        "  except ValueError as e:\n",
        "      return f\"Error: {e} \\nLoan Denied\"\n",
        "\n",
        "\n",
        "print(loan())\n",
        "\n",
        "\n",
        "\n"
      ],
      "metadata": {
        "id": "vc-LGFN7mIEt",
        "colab": {
          "base_uri": "https://localhost:8080/"
        },
        "outputId": "30798b35-b888-49a6-ae07-b81119ca2b82"
      },
      "execution_count": 11,
      "outputs": [
        {
          "output_type": "stream",
          "name": "stdout",
          "text": [
            "Enter Age: 68\n",
            "Enter Income: 75000\n",
            "Enter the loan amount requested: 1545000\n",
            "Error: the loan amount you requested is too high \n",
            "Loan Denied\n"
          ]
        }
      ]
    }
  ]
}